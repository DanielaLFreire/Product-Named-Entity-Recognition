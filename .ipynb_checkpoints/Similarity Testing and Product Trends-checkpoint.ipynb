{
 "cells": [
  {
   "cell_type": "code",
   "execution_count": 334,
   "metadata": {},
   "outputs": [],
   "source": [
    "import spacy\n",
    "import pandas as pd\n",
    "import re\n",
    "from collections import defaultdict\n",
    "from statistics import mean\n",
    "import matplotlib.pyplot as plt"
   ]
  },
  {
   "cell_type": "markdown",
   "metadata": {},
   "source": [
    "## Importing Data Set and cleaning"
   ]
  },
  {
   "cell_type": "code",
   "execution_count": 111,
   "metadata": {},
   "outputs": [],
   "source": [
    "df = pd.read_csv('cleaned_df.csv')"
   ]
  },
  {
   "cell_type": "code",
   "execution_count": 112,
   "metadata": {},
   "outputs": [],
   "source": [
    "df.drop(['Unnamed: 0', 'title', 'text'], axis=1, inplace=True)"
   ]
  },
  {
   "cell_type": "code",
   "execution_count": 661,
   "metadata": {},
   "outputs": [
    {
     "data": {
      "text/html": [
       "<div>\n",
       "<style scoped>\n",
       "    .dataframe tbody tr th:only-of-type {\n",
       "        vertical-align: middle;\n",
       "    }\n",
       "\n",
       "    .dataframe tbody tr th {\n",
       "        vertical-align: top;\n",
       "    }\n",
       "\n",
       "    .dataframe thead th {\n",
       "        text-align: right;\n",
       "    }\n",
       "</style>\n",
       "<table border=\"1\" class=\"dataframe\">\n",
       "  <thead>\n",
       "    <tr style=\"text-align: right;\">\n",
       "      <th></th>\n",
       "      <th>id</th>\n",
       "      <th>date</th>\n",
       "      <th>direction</th>\n",
       "      <th>author</th>\n",
       "      <th>link</th>\n",
       "      <th>title_clean</th>\n",
       "      <th>text_clean</th>\n",
       "      <th>title</th>\n",
       "      <th>similarity</th>\n",
       "    </tr>\n",
       "  </thead>\n",
       "  <tbody>\n",
       "    <tr>\n",
       "      <th>0</th>\n",
       "      <td>ef6gns</td>\n",
       "      <td>12/24/2019</td>\n",
       "      <td>SELLING</td>\n",
       "      <td>HoochtheHero</td>\n",
       "      <td>/r/hardwareswap/comments/ef6gns/usaoh_h_valve_...</td>\n",
       "      <td>USA-OH  Valve index full kit</td>\n",
       "      <td>http://imgur.com/gallery/hcNYf9a  Selling my V...</td>\n",
       "      <td>Valve index full kit</td>\n",
       "      <td>-0.015270</td>\n",
       "    </tr>\n",
       "    <tr>\n",
       "      <th>1</th>\n",
       "      <td>ef60t3</td>\n",
       "      <td>12/24/2019</td>\n",
       "      <td>SELLING</td>\n",
       "      <td>asterik216</td>\n",
       "      <td>/r/hardwareswap/comments/ef60t3/usaohh_msi_arm...</td>\n",
       "      <td>USA-OH MSI Armor RX 580 4GB</td>\n",
       "      <td>Used for about 4 5 months and is very clean ba...</td>\n",
       "      <td>MSI Armor RX 580 4GB</td>\n",
       "      <td>0.392525</td>\n",
       "    </tr>\n",
       "    <tr>\n",
       "      <th>2</th>\n",
       "      <td>ef5av3</td>\n",
       "      <td>12/24/2019</td>\n",
       "      <td>SELLING</td>\n",
       "      <td>legoswag123</td>\n",
       "      <td>/r/hardwareswap/comments/ef5av3/usail_h_bose_s...</td>\n",
       "      <td>USA-IL  Bose SoundSport Free</td>\n",
       "      <td>Timestamps here  https://imgur.com/bMnWAId   ...</td>\n",
       "      <td>Bose SoundSport Free</td>\n",
       "      <td>0.158002</td>\n",
       "    </tr>\n",
       "    <tr>\n",
       "      <th>3</th>\n",
       "      <td>ef5auo</td>\n",
       "      <td>12/24/2019</td>\n",
       "      <td>SELLING</td>\n",
       "      <td>Red_1224</td>\n",
       "      <td>/r/hardwareswap/comments/ef5auo/usaidh_bnib_de...</td>\n",
       "      <td>USA-ID BNIB Dell U3818DW ultra wide ultra shar...</td>\n",
       "      <td>I apologize if my photos are confusing but th...</td>\n",
       "      <td>BNIB Dell U3818DW ultra wide ultra sharp monitor</td>\n",
       "      <td>0.232423</td>\n",
       "    </tr>\n",
       "    <tr>\n",
       "      <th>4</th>\n",
       "      <td>ef75tz</td>\n",
       "      <td>12/24/2019</td>\n",
       "      <td>SELLING</td>\n",
       "      <td>TIMTWIJUTSU21</td>\n",
       "      <td>/r/hardwareswap/comments/ef75tz/usaks_h_acer_n...</td>\n",
       "      <td>USA-KS  acer nitro 5 spin gaming laptop</td>\n",
       "      <td>Selling a new and unused laptop that I got fro...</td>\n",
       "      <td>acer nitro 5 spin gaming laptop</td>\n",
       "      <td>0.159577</td>\n",
       "    </tr>\n",
       "  </tbody>\n",
       "</table>\n",
       "</div>"
      ],
      "text/plain": [
       "       id        date direction         author  \\\n",
       "0  ef6gns  12/24/2019   SELLING   HoochtheHero   \n",
       "1  ef60t3  12/24/2019   SELLING     asterik216   \n",
       "2  ef5av3  12/24/2019   SELLING    legoswag123   \n",
       "3  ef5auo  12/24/2019   SELLING       Red_1224   \n",
       "4  ef75tz  12/24/2019   SELLING  TIMTWIJUTSU21   \n",
       "\n",
       "                                                link  \\\n",
       "0  /r/hardwareswap/comments/ef6gns/usaoh_h_valve_...   \n",
       "1  /r/hardwareswap/comments/ef60t3/usaohh_msi_arm...   \n",
       "2  /r/hardwareswap/comments/ef5av3/usail_h_bose_s...   \n",
       "3  /r/hardwareswap/comments/ef5auo/usaidh_bnib_de...   \n",
       "4  /r/hardwareswap/comments/ef75tz/usaks_h_acer_n...   \n",
       "\n",
       "                                         title_clean  \\\n",
       "0                      USA-OH  Valve index full kit    \n",
       "1                       USA-OH MSI Armor RX 580 4GB    \n",
       "2                      USA-IL  Bose SoundSport Free    \n",
       "3  USA-ID BNIB Dell U3818DW ultra wide ultra shar...   \n",
       "4           USA-KS  acer nitro 5 spin gaming laptop    \n",
       "\n",
       "                                          text_clean  \\\n",
       "0  http://imgur.com/gallery/hcNYf9a  Selling my V...   \n",
       "1  Used for about 4 5 months and is very clean ba...   \n",
       "2   Timestamps here  https://imgur.com/bMnWAId   ...   \n",
       "3   I apologize if my photos are confusing but th...   \n",
       "4  Selling a new and unused laptop that I got fro...   \n",
       "\n",
       "                                              title  similarity  \n",
       "0                              Valve index full kit   -0.015270  \n",
       "1                              MSI Armor RX 580 4GB    0.392525  \n",
       "2                              Bose SoundSport Free    0.158002  \n",
       "3  BNIB Dell U3818DW ultra wide ultra sharp monitor    0.232423  \n",
       "4                   acer nitro 5 spin gaming laptop    0.159577  "
      ]
     },
     "execution_count": 661,
     "metadata": {},
     "output_type": "execute_result"
    }
   ],
   "source": [
    "df.head()"
   ]
  },
  {
   "cell_type": "code",
   "execution_count": 114,
   "metadata": {},
   "outputs": [],
   "source": [
    "def title_product(product):\n",
    "    x = product[6:].strip()\n",
    "    return x"
   ]
  },
  {
   "cell_type": "code",
   "execution_count": 115,
   "metadata": {},
   "outputs": [],
   "source": [
    "df['title'] = df['title_clean'].apply(title_product)"
   ]
  },
  {
   "cell_type": "code",
   "execution_count": 62,
   "metadata": {},
   "outputs": [],
   "source": [
    "# df.to_csv('vector_dataset.csv')"
   ]
  },
  {
   "cell_type": "markdown",
   "metadata": {},
   "source": [
    "## Similarty Testing"
   ]
  },
  {
   "cell_type": "code",
   "execution_count": 2,
   "metadata": {},
   "outputs": [
    {
     "name": "stdout",
     "output_type": "stream",
     "text": [
      "dog True 7.0336733 False\n",
      "cat True 6.6808186 False\n",
      "banana True 6.700014 False\n",
      "afskfsd False 0.0 True\n"
     ]
    }
   ],
   "source": [
    "nlp = spacy.load('en_core_web_lg')\n",
    "tokens = nlp(\"dog cat banana afskfsd\")\n",
    "\n",
    "for token in tokens:\n",
    "    print(token.text, token.has_vector, token.vector_norm, token.is_oov)"
   ]
  },
  {
   "cell_type": "code",
   "execution_count": 3,
   "metadata": {},
   "outputs": [
    {
     "name": "stdout",
     "output_type": "stream",
     "text": [
      "iphone iphone 1.0\n",
      "iphone computer 0.3551541\n",
      "iphone macbook 0.6561773\n",
      "iphone macbookpro 0.31109908\n",
      "computer iphone 0.3551541\n",
      "computer computer 1.0\n",
      "computer macbook 0.39465484\n",
      "computer macbookpro 0.04940602\n",
      "macbook iphone 0.6561773\n",
      "macbook computer 0.39465484\n",
      "macbook macbook 1.0\n",
      "macbook macbookpro 0.6441391\n",
      "macbookpro iphone 0.31109908\n",
      "macbookpro computer 0.04940602\n",
      "macbookpro macbook 0.6441391\n",
      "macbookpro macbookpro 1.0\n"
     ]
    }
   ],
   "source": [
    "tokens = nlp(\"iphone computer macbook macbookpro\")\n",
    "\n",
    "for token1 in tokens:\n",
    "    for token2 in tokens:\n",
    "        print(token1.text, token2.text, token1.similarity(token2))"
   ]
  },
  {
   "cell_type": "code",
   "execution_count": 8,
   "metadata": {},
   "outputs": [
    {
     "data": {
      "text/plain": [
       "0.8219944560498161"
      ]
     },
     "execution_count": 8,
     "metadata": {},
     "output_type": "execute_result"
    }
   ],
   "source": [
    "doc1 = nlp(\"GTX 1070\")\n",
    "doc2 = nlp(\"GTX 1080\")\n",
    "doc1.similarity(doc2)"
   ]
  },
  {
   "cell_type": "markdown",
   "metadata": {},
   "source": [
    "## Text preprocessing"
   ]
  },
  {
   "cell_type": "code",
   "execution_count": 9,
   "metadata": {},
   "outputs": [],
   "source": [
    "#assign the default stopwords list to a variable\n",
    "STOP_WORDS = spacy.lang.en.stop_words.STOP_WORDS"
   ]
  },
  {
   "cell_type": "code",
   "execution_count": 11,
   "metadata": {},
   "outputs": [],
   "source": [
    "def remove_stopwords(text):\n",
    "    doc = nlp(text.lower()) #1\n",
    "    result = [] #2\n",
    "    for token in doc: #3\n",
    "        if token.text in nlp.Defaults.stop_words: #4\n",
    "            continue\n",
    "        result.append(token.text)#5\n",
    "    return \" \".join(result) #6"
   ]
  },
  {
   "cell_type": "code",
   "execution_count": 14,
   "metadata": {},
   "outputs": [],
   "source": [
    "test = remove_stopwords('This is a test iphone for sale')"
   ]
  },
  {
   "cell_type": "code",
   "execution_count": 15,
   "metadata": {},
   "outputs": [
    {
     "data": {
      "text/plain": [
       "'test iphone sale'"
      ]
     },
     "execution_count": 15,
     "metadata": {},
     "output_type": "execute_result"
    }
   ],
   "source": [
    "test"
   ]
  },
  {
   "cell_type": "code",
   "execution_count": 50,
   "metadata": {},
   "outputs": [],
   "source": [
    "def calculate_similarity(text2):\n",
    "    base = nlp('Iphone 8')\n",
    "    compare = nlp(text2)\n",
    "    return base.similarity(compare)"
   ]
  },
  {
   "cell_type": "code",
   "execution_count": 51,
   "metadata": {},
   "outputs": [],
   "source": [
    "# df_sim = df.iloc[:1000,:]"
   ]
  },
  {
   "cell_type": "code",
   "execution_count": 52,
   "metadata": {},
   "outputs": [],
   "source": [
    "# df_sim['similarity'] = df_sim['title'].apply(calculate_similarity)"
   ]
  },
  {
   "cell_type": "code",
   "execution_count": 53,
   "metadata": {},
   "outputs": [
    {
     "name": "stderr",
     "output_type": "stream",
     "text": [
      "/Users/eric/anaconda3/lib/python3.7/runpy.py:193: UserWarning: [W008] Evaluating Doc.similarity based on empty vectors.\n",
      "  \"__main__\", mod_spec)\n",
      "/Users/eric/anaconda3/lib/python3.7/runpy.py:193: UserWarning: [W008] Evaluating Doc.similarity based on empty vectors.\n",
      "  \"__main__\", mod_spec)\n",
      "/Users/eric/anaconda3/lib/python3.7/runpy.py:193: UserWarning: [W008] Evaluating Doc.similarity based on empty vectors.\n",
      "  \"__main__\", mod_spec)\n",
      "/Users/eric/anaconda3/lib/python3.7/runpy.py:193: UserWarning: [W008] Evaluating Doc.similarity based on empty vectors.\n",
      "  \"__main__\", mod_spec)\n",
      "/Users/eric/anaconda3/lib/python3.7/runpy.py:193: UserWarning: [W008] Evaluating Doc.similarity based on empty vectors.\n",
      "  \"__main__\", mod_spec)\n",
      "/Users/eric/anaconda3/lib/python3.7/runpy.py:193: UserWarning: [W008] Evaluating Doc.similarity based on empty vectors.\n",
      "  \"__main__\", mod_spec)\n",
      "/Users/eric/anaconda3/lib/python3.7/runpy.py:193: UserWarning: [W008] Evaluating Doc.similarity based on empty vectors.\n",
      "  \"__main__\", mod_spec)\n",
      "/Users/eric/anaconda3/lib/python3.7/runpy.py:193: UserWarning: [W008] Evaluating Doc.similarity based on empty vectors.\n",
      "  \"__main__\", mod_spec)\n",
      "/Users/eric/anaconda3/lib/python3.7/runpy.py:193: UserWarning: [W008] Evaluating Doc.similarity based on empty vectors.\n",
      "  \"__main__\", mod_spec)\n",
      "/Users/eric/anaconda3/lib/python3.7/runpy.py:193: UserWarning: [W008] Evaluating Doc.similarity based on empty vectors.\n",
      "  \"__main__\", mod_spec)\n",
      "/Users/eric/anaconda3/lib/python3.7/runpy.py:193: UserWarning: [W008] Evaluating Doc.similarity based on empty vectors.\n",
      "  \"__main__\", mod_spec)\n",
      "/Users/eric/anaconda3/lib/python3.7/runpy.py:193: UserWarning: [W008] Evaluating Doc.similarity based on empty vectors.\n",
      "  \"__main__\", mod_spec)\n",
      "/Users/eric/anaconda3/lib/python3.7/runpy.py:193: UserWarning: [W008] Evaluating Doc.similarity based on empty vectors.\n",
      "  \"__main__\", mod_spec)\n",
      "/Users/eric/anaconda3/lib/python3.7/runpy.py:193: UserWarning: [W008] Evaluating Doc.similarity based on empty vectors.\n",
      "  \"__main__\", mod_spec)\n",
      "/Users/eric/anaconda3/lib/python3.7/runpy.py:193: UserWarning: [W008] Evaluating Doc.similarity based on empty vectors.\n",
      "  \"__main__\", mod_spec)\n",
      "/Users/eric/anaconda3/lib/python3.7/runpy.py:193: UserWarning: [W008] Evaluating Doc.similarity based on empty vectors.\n",
      "  \"__main__\", mod_spec)\n",
      "/Users/eric/anaconda3/lib/python3.7/runpy.py:193: UserWarning: [W008] Evaluating Doc.similarity based on empty vectors.\n",
      "  \"__main__\", mod_spec)\n",
      "/Users/eric/anaconda3/lib/python3.7/runpy.py:193: UserWarning: [W008] Evaluating Doc.similarity based on empty vectors.\n",
      "  \"__main__\", mod_spec)\n",
      "/Users/eric/anaconda3/lib/python3.7/runpy.py:193: UserWarning: [W008] Evaluating Doc.similarity based on empty vectors.\n",
      "  \"__main__\", mod_spec)\n",
      "/Users/eric/anaconda3/lib/python3.7/runpy.py:193: UserWarning: [W008] Evaluating Doc.similarity based on empty vectors.\n",
      "  \"__main__\", mod_spec)\n",
      "/Users/eric/anaconda3/lib/python3.7/runpy.py:193: UserWarning: [W008] Evaluating Doc.similarity based on empty vectors.\n",
      "  \"__main__\", mod_spec)\n",
      "/Users/eric/anaconda3/lib/python3.7/runpy.py:193: UserWarning: [W008] Evaluating Doc.similarity based on empty vectors.\n",
      "  \"__main__\", mod_spec)\n",
      "/Users/eric/anaconda3/lib/python3.7/runpy.py:193: UserWarning: [W008] Evaluating Doc.similarity based on empty vectors.\n",
      "  \"__main__\", mod_spec)\n",
      "/Users/eric/anaconda3/lib/python3.7/runpy.py:193: UserWarning: [W008] Evaluating Doc.similarity based on empty vectors.\n",
      "  \"__main__\", mod_spec)\n",
      "/Users/eric/anaconda3/lib/python3.7/runpy.py:193: UserWarning: [W008] Evaluating Doc.similarity based on empty vectors.\n",
      "  \"__main__\", mod_spec)\n",
      "/Users/eric/anaconda3/lib/python3.7/runpy.py:193: UserWarning: [W008] Evaluating Doc.similarity based on empty vectors.\n",
      "  \"__main__\", mod_spec)\n",
      "/Users/eric/anaconda3/lib/python3.7/runpy.py:193: UserWarning: [W008] Evaluating Doc.similarity based on empty vectors.\n",
      "  \"__main__\", mod_spec)\n",
      "/Users/eric/anaconda3/lib/python3.7/runpy.py:193: UserWarning: [W008] Evaluating Doc.similarity based on empty vectors.\n",
      "  \"__main__\", mod_spec)\n",
      "/Users/eric/anaconda3/lib/python3.7/runpy.py:193: UserWarning: [W008] Evaluating Doc.similarity based on empty vectors.\n",
      "  \"__main__\", mod_spec)\n",
      "/Users/eric/anaconda3/lib/python3.7/runpy.py:193: UserWarning: [W008] Evaluating Doc.similarity based on empty vectors.\n",
      "  \"__main__\", mod_spec)\n",
      "/Users/eric/anaconda3/lib/python3.7/runpy.py:193: UserWarning: [W008] Evaluating Doc.similarity based on empty vectors.\n",
      "  \"__main__\", mod_spec)\n",
      "/Users/eric/anaconda3/lib/python3.7/runpy.py:193: UserWarning: [W008] Evaluating Doc.similarity based on empty vectors.\n",
      "  \"__main__\", mod_spec)\n",
      "/Users/eric/anaconda3/lib/python3.7/runpy.py:193: UserWarning: [W008] Evaluating Doc.similarity based on empty vectors.\n",
      "  \"__main__\", mod_spec)\n",
      "/Users/eric/anaconda3/lib/python3.7/runpy.py:193: UserWarning: [W008] Evaluating Doc.similarity based on empty vectors.\n",
      "  \"__main__\", mod_spec)\n",
      "/Users/eric/anaconda3/lib/python3.7/runpy.py:193: UserWarning: [W008] Evaluating Doc.similarity based on empty vectors.\n",
      "  \"__main__\", mod_spec)\n",
      "/Users/eric/anaconda3/lib/python3.7/runpy.py:193: UserWarning: [W008] Evaluating Doc.similarity based on empty vectors.\n",
      "  \"__main__\", mod_spec)\n",
      "/Users/eric/anaconda3/lib/python3.7/runpy.py:193: UserWarning: [W008] Evaluating Doc.similarity based on empty vectors.\n",
      "  \"__main__\", mod_spec)\n",
      "/Users/eric/anaconda3/lib/python3.7/runpy.py:193: UserWarning: [W008] Evaluating Doc.similarity based on empty vectors.\n",
      "  \"__main__\", mod_spec)\n",
      "/Users/eric/anaconda3/lib/python3.7/runpy.py:193: UserWarning: [W008] Evaluating Doc.similarity based on empty vectors.\n",
      "  \"__main__\", mod_spec)\n"
     ]
    }
   ],
   "source": [
    "df['similarity'] = df['title'].apply(calculate_similarity)"
   ]
  },
  {
   "cell_type": "code",
   "execution_count": 55,
   "metadata": {},
   "outputs": [
    {
     "data": {
      "text/plain": [
       "(57, 9)"
      ]
     },
     "execution_count": 55,
     "metadata": {},
     "output_type": "execute_result"
    }
   ],
   "source": [
    "df_sim[df_sim['similarity'] > .6].shape"
   ]
  },
  {
   "cell_type": "code",
   "execution_count": 63,
   "metadata": {},
   "outputs": [],
   "source": [
    "# Custom Vector \n",
    "# Custom Vector was not nearly as good as en_core_web_lg\n",
    "nlp_custom = spacy.load('/Users/eric/Projects/Product-Named-Entity-Recognition/word2vec')"
   ]
  },
  {
   "cell_type": "code",
   "execution_count": 70,
   "metadata": {},
   "outputs": [],
   "source": [
    "def calculate_similarity_custom(text1, text2):\n",
    "    base = nlp_custom(text1)\n",
    "    compare = nlp_custom(text2)\n",
    "    return base.similarity(compare)"
   ]
  },
  {
   "cell_type": "code",
   "execution_count": 68,
   "metadata": {},
   "outputs": [
    {
     "data": {
      "text/html": [
       "<div>\n",
       "<style scoped>\n",
       "    .dataframe tbody tr th:only-of-type {\n",
       "        vertical-align: middle;\n",
       "    }\n",
       "\n",
       "    .dataframe tbody tr th {\n",
       "        vertical-align: top;\n",
       "    }\n",
       "\n",
       "    .dataframe thead th {\n",
       "        text-align: right;\n",
       "    }\n",
       "</style>\n",
       "<table border=\"1\" class=\"dataframe\">\n",
       "  <thead>\n",
       "    <tr style=\"text-align: right;\">\n",
       "      <th></th>\n",
       "      <th>id</th>\n",
       "      <th>date</th>\n",
       "      <th>direction</th>\n",
       "      <th>author</th>\n",
       "      <th>link</th>\n",
       "      <th>title_clean</th>\n",
       "      <th>text_clean</th>\n",
       "      <th>title</th>\n",
       "      <th>similarity</th>\n",
       "    </tr>\n",
       "  </thead>\n",
       "  <tbody>\n",
       "    <tr>\n",
       "      <th>547</th>\n",
       "      <td>eir4yt</td>\n",
       "      <td>01/01/2020 20:29:47</td>\n",
       "      <td>SELLING</td>\n",
       "      <td>snowboardkid503</td>\n",
       "      <td>/r/hardwareswap/comments/eir4yt/usaor_h_8_ek_t...</td>\n",
       "      <td>USA-OR  8 ek torque stc 10/13</td>\n",
       "      <td>I have 8  ek torque stc 10/13 fittings looking...</td>\n",
       "      <td>8 ek torque stc 10/13</td>\n",
       "      <td>0.961852</td>\n",
       "    </tr>\n",
       "    <tr>\n",
       "      <th>783</th>\n",
       "      <td>ejyvv6</td>\n",
       "      <td>01/04/2020 11:44:09</td>\n",
       "      <td>SELLING</td>\n",
       "      <td>TheBigGame117</td>\n",
       "      <td>/r/hardwareswap/comments/ejyvv6/usa_oh_h_15_sh...</td>\n",
       "      <td>USA - OH  (15) Shucked 8TB EasyStore Drives</td>\n",
       "      <td>I've been tripping over a 42U rack filled with...</td>\n",
       "      <td>OH  (15) Shucked 8TB EasyStore Drives</td>\n",
       "      <td>0.904706</td>\n",
       "    </tr>\n",
       "    <tr>\n",
       "      <th>1436</th>\n",
       "      <td>eodu39</td>\n",
       "      <td>01/13/2020 20:17:33</td>\n",
       "      <td>SELLING</td>\n",
       "      <td>TheBigGame117</td>\n",
       "      <td>/r/hardwareswap/comments/eodu39/usa_oh_h_15_sh...</td>\n",
       "      <td>USA - OH  (15) Shucked 8TB EasyStore Drives</td>\n",
       "      <td>It's me again, we'll call this \"Group 2\" prev...</td>\n",
       "      <td>OH  (15) Shucked 8TB EasyStore Drives</td>\n",
       "      <td>0.904706</td>\n",
       "    </tr>\n",
       "    <tr>\n",
       "      <th>4286</th>\n",
       "      <td>f5afgr</td>\n",
       "      <td>02/17/2020 15:37:19</td>\n",
       "      <td>SELLING</td>\n",
       "      <td>ATribeCalledDaniel</td>\n",
       "      <td>/r/hardwareswap/comments/f5afgr/usanyc_h_iphon...</td>\n",
       "      <td>USA-NYC  iPhone 8</td>\n",
       "      <td>Local is 11211  Timestamp: https://imgur.com/g...</td>\n",
       "      <td>C  iPhone 8</td>\n",
       "      <td>0.932138</td>\n",
       "    </tr>\n",
       "  </tbody>\n",
       "</table>\n",
       "</div>"
      ],
      "text/plain": [
       "          id                 date direction              author  \\\n",
       "547   eir4yt  01/01/2020 20:29:47   SELLING     snowboardkid503   \n",
       "783   ejyvv6  01/04/2020 11:44:09   SELLING       TheBigGame117   \n",
       "1436  eodu39  01/13/2020 20:17:33   SELLING       TheBigGame117   \n",
       "4286  f5afgr  02/17/2020 15:37:19   SELLING  ATribeCalledDaniel   \n",
       "\n",
       "                                                   link  \\\n",
       "547   /r/hardwareswap/comments/eir4yt/usaor_h_8_ek_t...   \n",
       "783   /r/hardwareswap/comments/ejyvv6/usa_oh_h_15_sh...   \n",
       "1436  /r/hardwareswap/comments/eodu39/usa_oh_h_15_sh...   \n",
       "4286  /r/hardwareswap/comments/f5afgr/usanyc_h_iphon...   \n",
       "\n",
       "                                       title_clean  \\\n",
       "547                 USA-OR  8 ek torque stc 10/13    \n",
       "783   USA - OH  (15) Shucked 8TB EasyStore Drives    \n",
       "1436  USA - OH  (15) Shucked 8TB EasyStore Drives    \n",
       "4286                            USA-NYC  iPhone 8    \n",
       "\n",
       "                                             text_clean  \\\n",
       "547   I have 8  ek torque stc 10/13 fittings looking...   \n",
       "783   I've been tripping over a 42U rack filled with...   \n",
       "1436   It's me again, we'll call this \"Group 2\" prev...   \n",
       "4286  Local is 11211  Timestamp: https://imgur.com/g...   \n",
       "\n",
       "                                      title  similarity  \n",
       "547                   8 ek torque stc 10/13    0.961852  \n",
       "783   OH  (15) Shucked 8TB EasyStore Drives    0.904706  \n",
       "1436  OH  (15) Shucked 8TB EasyStore Drives    0.904706  \n",
       "4286                            C  iPhone 8    0.932138  "
      ]
     },
     "execution_count": 68,
     "metadata": {},
     "output_type": "execute_result"
    }
   ],
   "source": [
    "df[df['similarity'] > .9]"
   ]
  },
  {
   "cell_type": "markdown",
   "metadata": {},
   "source": [
    "## Similarity Matching and filtering"
   ]
  },
  {
   "cell_type": "code",
   "execution_count": 125,
   "metadata": {},
   "outputs": [],
   "source": [
    "def filter_products(df, product, similarity=.6):\n",
    "    def calculate_similarity(text2):\n",
    "        base = nlp(product)\n",
    "        compare = nlp(text2)\n",
    "        return base.similarity(compare)\n",
    "    \n",
    "    df['similarity'] = df['title'].apply(calculate_similarity)\n",
    "    df = df[df['similarity'] > similarity]\n",
    "    return df"
   ]
  },
  {
   "cell_type": "code",
   "execution_count": 667,
   "metadata": {},
   "outputs": [],
   "source": [
    "# df['similarity'] = df['title'].apply(calculate_similarity)"
   ]
  },
  {
   "cell_type": "code",
   "execution_count": 894,
   "metadata": {},
   "outputs": [],
   "source": [
    "# EVGA 1070 SC\n",
    "# iPhone 8 Plus\n",
    "df_product = filter_products(df, 'iPhone X', similarity=.60)"
   ]
  },
  {
   "cell_type": "code",
   "execution_count": 831,
   "metadata": {},
   "outputs": [
    {
     "data": {
      "text/plain": [
       "(332, 9)"
      ]
     },
     "execution_count": 831,
     "metadata": {},
     "output_type": "execute_result"
    }
   ],
   "source": [
    "df_product.shape"
   ]
  },
  {
   "cell_type": "code",
   "execution_count": 871,
   "metadata": {},
   "outputs": [],
   "source": [
    "product = df_product[df_product['title'].str.contains('iPhone X')]"
   ]
  },
  {
   "cell_type": "markdown",
   "metadata": {},
   "source": [
    "# Product Price Trend"
   ]
  },
  {
   "cell_type": "code",
   "execution_count": 811,
   "metadata": {},
   "outputs": [],
   "source": [
    "ner = spacy.load(\"/Users/eric/Projects/Product-Named-Entity-Recognition/spacy_model/\")"
   ]
  },
  {
   "cell_type": "code",
   "execution_count": 853,
   "metadata": {},
   "outputs": [],
   "source": [
    "def price_dict(doc):\n",
    "    price_dicts = {'PRICE':[], 'PRICESHIPPED':[], 'PRICELOCAL':[]}\n",
    "\n",
    "    doc = ner(doc)\n",
    "    ents = [(e.text, e.label_) for e in doc.ents]\n",
    "\n",
    "\n",
    "    for ent, key in ents:\n",
    "\n",
    "        if key in price_dicts.keys():\n",
    "            price_dicts[key].append(ent)\n",
    "\n",
    "    price_lists = list(price_dicts.values())\n",
    "    prices = []\n",
    "\n",
    "    for price_list in price_lists:\n",
    "        if price_list != []:\n",
    "\n",
    "            for price in price_list:\n",
    "                price = re.findall(\"\\d+\", price)[0]\n",
    "                prices.append(int(price))\n",
    "    if len(prices) == 0:\n",
    "        return 'nan'\n",
    "    else:\n",
    "        return mean(prices)"
   ]
  },
  {
   "cell_type": "code",
   "execution_count": 872,
   "metadata": {},
   "outputs": [
    {
     "name": "stderr",
     "output_type": "stream",
     "text": [
      "/Users/eric/anaconda3/lib/python3.7/site-packages/ipykernel_launcher.py:1: SettingWithCopyWarning:\n",
      "\n",
      "\n",
      "A value is trying to be set on a copy of a slice from a DataFrame.\n",
      "Try using .loc[row_indexer,col_indexer] = value instead\n",
      "\n",
      "See the caveats in the documentation: http://pandas.pydata.org/pandas-docs/stable/indexing.html#indexing-view-versus-copy\n",
      "\n"
     ]
    }
   ],
   "source": [
    "product['FINAL_PRICE'] = product['text_clean'].apply(price_dict)"
   ]
  },
  {
   "cell_type": "code",
   "execution_count": 873,
   "metadata": {},
   "outputs": [],
   "source": [
    "product = product[product['FINAL_PRICE'] != 'nan']"
   ]
  },
  {
   "cell_type": "code",
   "execution_count": 863,
   "metadata": {},
   "outputs": [],
   "source": [
    "import plotly.express as px"
   ]
  },
  {
   "cell_type": "code",
   "execution_count": 893,
   "metadata": {},
   "outputs": [
    {
     "data": {
      "application/vnd.plotly.v1+json": {
       "config": {
        "plotlyServerURL": "https://plot.ly"
       },
       "data": [
        {
         "alignmentgroup": "True",
         "customdata": [
          [
           "iPhone XR 64gb W/ Apple Care",
           500
          ],
          [
           "Unlocked iPhone X 256gb Space Gray (CDMA/GSM)",
           500
          ],
          [
           "Unlocked iPhone XS",
           500
          ],
          [
           "Sprint iPhone XS Max 64GB with Swappa Insurance",
           500
          ]
         ],
         "hoverlabel": {
          "namelength": 0
         },
         "hovertemplate": "iPhone X Sale Price=%{customdata[1]}<br>date=%{x}<br>title=%{customdata[0]}",
         "legendgroup": "iPhone X Sale Price=500.0",
         "marker": {
          "color": "#636efa",
          "opacity": 0.5
         },
         "name": "iPhone X Sale Price=500.0",
         "offsetgroup": "iPhone X Sale Price=500.0",
         "orientation": "v",
         "showlegend": true,
         "textposition": "auto",
         "type": "bar",
         "x": [
          "12/25/2019",
          "12/26/2019",
          "12/29/2019",
          "02/13/2020 00:25:43"
         ],
         "xaxis": "x",
         "y": [
          500,
          500,
          500,
          500
         ],
         "yaxis": "y"
        },
        {
         "alignmentgroup": "True",
         "customdata": [
          [
           "Apple iPhone X 256gb Factory unlocked.",
           450
          ],
          [
           "Unlocked iPhone X 64GB",
           450
          ],
          [
           "Yellow iPhone XR 64GB",
           450
          ],
          [
           "iPhone XR 128gb",
           450
          ]
         ],
         "hoverlabel": {
          "namelength": 0
         },
         "hovertemplate": "iPhone X Sale Price=%{customdata[1]}<br>date=%{x}<br>title=%{customdata[0]}",
         "legendgroup": "iPhone X Sale Price=450.0",
         "marker": {
          "color": "#EF553B",
          "opacity": 0.5
         },
         "name": "iPhone X Sale Price=450.0",
         "offsetgroup": "iPhone X Sale Price=450.0",
         "orientation": "v",
         "showlegend": true,
         "textposition": "auto",
         "type": "bar",
         "x": [
          "12/25/2019",
          "01/01/2020 16:19:00",
          "01/15/2020 10:38:20",
          "02/10/2020 06:38:02"
         ],
         "xaxis": "x",
         "y": [
          450,
          450,
          450,
          450
         ],
         "yaxis": "y"
        },
        {
         "alignmentgroup": "True",
         "customdata": [
          [
           "iPhone XS 256gb Gold",
           669
          ]
         ],
         "hoverlabel": {
          "namelength": 0
         },
         "hovertemplate": "iPhone X Sale Price=%{customdata[1]}<br>date=%{x}<br>title=%{customdata[0]}",
         "legendgroup": "iPhone X Sale Price=669.0",
         "marker": {
          "color": "#00cc96",
          "opacity": 0.5
         },
         "name": "iPhone X Sale Price=669.0",
         "offsetgroup": "iPhone X Sale Price=669.0",
         "orientation": "v",
         "showlegend": true,
         "textposition": "auto",
         "type": "bar",
         "x": [
          "12/27/2019"
         ],
         "xaxis": "x",
         "y": [
          669
         ],
         "yaxis": "y"
        },
        {
         "alignmentgroup": "True",
         "customdata": [
          [
           "Verizon iPhone X Silver 256GB 100% battery health",
           535
          ]
         ],
         "hoverlabel": {
          "namelength": 0
         },
         "hovertemplate": "iPhone X Sale Price=%{customdata[1]}<br>date=%{x}<br>title=%{customdata[0]}",
         "legendgroup": "iPhone X Sale Price=535.0",
         "marker": {
          "color": "#ab63fa",
          "opacity": 0.5
         },
         "name": "iPhone X Sale Price=535.0",
         "offsetgroup": "iPhone X Sale Price=535.0",
         "orientation": "v",
         "showlegend": true,
         "textposition": "auto",
         "type": "bar",
         "x": [
          "12/27/2019"
         ],
         "xaxis": "x",
         "y": [
          535
         ],
         "yaxis": "y"
        },
        {
         "alignmentgroup": "True",
         "customdata": [
          [
           "iPhone X 64GB Black",
           400
          ],
          [
           "iPhone X 64GB (Black) Unlocked",
           400
          ],
          [
           "Yellow iPhone XR 64GB",
           400
          ]
         ],
         "hoverlabel": {
          "namelength": 0
         },
         "hovertemplate": "iPhone X Sale Price=%{customdata[1]}<br>date=%{x}<br>title=%{customdata[0]}",
         "legendgroup": "iPhone X Sale Price=400.0",
         "marker": {
          "color": "#FFA15A",
          "opacity": 0.5
         },
         "name": "iPhone X Sale Price=400.0",
         "offsetgroup": "iPhone X Sale Price=400.0",
         "orientation": "v",
         "showlegend": true,
         "textposition": "auto",
         "type": "bar",
         "x": [
          "12/28/2019",
          "12/28/2019",
          "01/20/2020 16:44:49"
         ],
         "xaxis": "x",
         "y": [
          400,
          400,
          400
         ],
         "yaxis": "y"
        },
        {
         "alignmentgroup": "True",
         "customdata": [
          [
           "2 iPhone X unlocked",
           330
          ]
         ],
         "hoverlabel": {
          "namelength": 0
         },
         "hovertemplate": "iPhone X Sale Price=%{customdata[1]}<br>date=%{x}<br>title=%{customdata[0]}",
         "legendgroup": "iPhone X Sale Price=330.0",
         "marker": {
          "color": "#19d3f3",
          "opacity": 0.5
         },
         "name": "iPhone X Sale Price=330.0",
         "offsetgroup": "iPhone X Sale Price=330.0",
         "orientation": "v",
         "showlegend": true,
         "textposition": "auto",
         "type": "bar",
         "x": [
          "01/01/2020 02:36:13"
         ],
         "xaxis": "x",
         "y": [
          330
         ],
         "yaxis": "y"
        },
        {
         "alignmentgroup": "True",
         "customdata": [
          [
           "Unlocked 64GB iPhone X offers",
           370
          ]
         ],
         "hoverlabel": {
          "namelength": 0
         },
         "hovertemplate": "iPhone X Sale Price=%{customdata[1]}<br>date=%{x}<br>title=%{customdata[0]}",
         "legendgroup": "iPhone X Sale Price=370.0",
         "marker": {
          "color": "#FF6692",
          "opacity": 0.5
         },
         "name": "iPhone X Sale Price=370.0",
         "offsetgroup": "iPhone X Sale Price=370.0",
         "orientation": "v",
         "showlegend": true,
         "textposition": "auto",
         "type": "bar",
         "x": [
          "01/04/2020 01:18:41"
         ],
         "xaxis": "x",
         "y": [
          370
         ],
         "yaxis": "y"
        },
        {
         "alignmentgroup": "True",
         "customdata": [
          [
           "iPhone X 64gb unlocked",
           350
          ]
         ],
         "hoverlabel": {
          "namelength": 0
         },
         "hovertemplate": "iPhone X Sale Price=%{customdata[1]}<br>date=%{x}<br>title=%{customdata[0]}",
         "legendgroup": "iPhone X Sale Price=350.0",
         "marker": {
          "color": "#B6E880",
          "opacity": 0.5
         },
         "name": "iPhone X Sale Price=350.0",
         "offsetgroup": "iPhone X Sale Price=350.0",
         "orientation": "v",
         "showlegend": true,
         "textposition": "auto",
         "type": "bar",
         "x": [
          "01/06/2020 10:06:30"
         ],
         "xaxis": "x",
         "y": [
          350
         ],
         "yaxis": "y"
        },
        {
         "alignmentgroup": "True",
         "customdata": [
          [
           "iPhone XS Max 64GB Space Gray",
           650
          ]
         ],
         "hoverlabel": {
          "namelength": 0
         },
         "hovertemplate": "iPhone X Sale Price=%{customdata[1]}<br>date=%{x}<br>title=%{customdata[0]}",
         "legendgroup": "iPhone X Sale Price=650.0",
         "marker": {
          "color": "#FF97FF",
          "opacity": 0.5
         },
         "name": "iPhone X Sale Price=650.0",
         "offsetgroup": "iPhone X Sale Price=650.0",
         "orientation": "v",
         "showlegend": true,
         "textposition": "auto",
         "type": "bar",
         "x": [
          "01/08/2020 10:29:19"
         ],
         "xaxis": "x",
         "y": [
          650
         ],
         "yaxis": "y"
        },
        {
         "alignmentgroup": "True",
         "customdata": [
          [
           "iPhone X 256GB",
           520
          ]
         ],
         "hoverlabel": {
          "namelength": 0
         },
         "hovertemplate": "iPhone X Sale Price=%{customdata[1]}<br>date=%{x}<br>title=%{customdata[0]}",
         "legendgroup": "iPhone X Sale Price=520.0",
         "marker": {
          "color": "#FECB52",
          "opacity": 0.5
         },
         "name": "iPhone X Sale Price=520.0",
         "offsetgroup": "iPhone X Sale Price=520.0",
         "orientation": "v",
         "showlegend": true,
         "textposition": "auto",
         "type": "bar",
         "x": [
          "01/08/2020 08:00:54"
         ],
         "xaxis": "x",
         "y": [
          520
         ],
         "yaxis": "y"
        },
        {
         "alignmentgroup": "True",
         "customdata": [
          [
           "iPhone X 256gb Unlocked",
           550
          ],
          [
           "Silver iPhone X 256 gb",
           550
          ],
          [
           "iPhone XS Max Black 256 GB",
           550
          ]
         ],
         "hoverlabel": {
          "namelength": 0
         },
         "hovertemplate": "iPhone X Sale Price=%{customdata[1]}<br>date=%{x}<br>title=%{customdata[0]}",
         "legendgroup": "iPhone X Sale Price=550.0",
         "marker": {
          "color": "#636efa",
          "opacity": 0.5
         },
         "name": "iPhone X Sale Price=550.0",
         "offsetgroup": "iPhone X Sale Price=550.0",
         "orientation": "v",
         "showlegend": true,
         "textposition": "auto",
         "type": "bar",
         "x": [
          "01/10/2020 10:50:56",
          "01/09/2020 16:27:13",
          "01/31/2020 15:07:24"
         ],
         "xaxis": "x",
         "y": [
          550,
          550,
          550
         ],
         "yaxis": "y"
        },
        {
         "alignmentgroup": "True",
         "customdata": [
          [
           "iPhone XS Max 64GB Space Gray",
           595
          ]
         ],
         "hoverlabel": {
          "namelength": 0
         },
         "hovertemplate": "iPhone X Sale Price=%{customdata[1]}<br>date=%{x}<br>title=%{customdata[0]}",
         "legendgroup": "iPhone X Sale Price=595.0",
         "marker": {
          "color": "#EF553B",
          "opacity": 0.5
         },
         "name": "iPhone X Sale Price=595.0",
         "offsetgroup": "iPhone X Sale Price=595.0",
         "orientation": "v",
         "showlegend": true,
         "textposition": "auto",
         "type": "bar",
         "x": [
          "01/12/2020 12:39:41"
         ],
         "xaxis": "x",
         "y": [
          595
         ],
         "yaxis": "y"
        },
        {
         "alignmentgroup": "True",
         "customdata": [
          [
           "iPhone XR 64gb Factory Unlocked Factory Red",
           412.5
          ]
         ],
         "hoverlabel": {
          "namelength": 0
         },
         "hovertemplate": "iPhone X Sale Price=%{customdata[1]}<br>date=%{x}<br>title=%{customdata[0]}",
         "legendgroup": "iPhone X Sale Price=412.5",
         "marker": {
          "color": "#00cc96",
          "opacity": 0.5
         },
         "name": "iPhone X Sale Price=412.5",
         "offsetgroup": "iPhone X Sale Price=412.5",
         "orientation": "v",
         "showlegend": true,
         "textposition": "auto",
         "type": "bar",
         "x": [
          "01/15/2020 17:21:23"
         ],
         "xaxis": "x",
         "y": [
          412.5
         ],
         "yaxis": "y"
        },
        {
         "alignmentgroup": "True",
         "customdata": [
          [
           "iPhone Xs",
           470
          ]
         ],
         "hoverlabel": {
          "namelength": 0
         },
         "hovertemplate": "iPhone X Sale Price=%{customdata[1]}<br>date=%{x}<br>title=%{customdata[0]}",
         "legendgroup": "iPhone X Sale Price=470.0",
         "marker": {
          "color": "#ab63fa",
          "opacity": 0.5
         },
         "name": "iPhone X Sale Price=470.0",
         "offsetgroup": "iPhone X Sale Price=470.0",
         "orientation": "v",
         "showlegend": true,
         "textposition": "auto",
         "type": "bar",
         "x": [
          "01/22/2020 19:34:58"
         ],
         "xaxis": "x",
         "y": [
          470
         ],
         "yaxis": "y"
        },
        {
         "alignmentgroup": "True",
         "customdata": [
          [
           "Sprint iPhone XS Max 64GB with Swappa Insurance",
           545
          ]
         ],
         "hoverlabel": {
          "namelength": 0
         },
         "hovertemplate": "iPhone X Sale Price=%{customdata[1]}<br>date=%{x}<br>title=%{customdata[0]}",
         "legendgroup": "iPhone X Sale Price=545.0",
         "marker": {
          "color": "#FFA15A",
          "opacity": 0.5
         },
         "name": "iPhone X Sale Price=545.0",
         "offsetgroup": "iPhone X Sale Price=545.0",
         "orientation": "v",
         "showlegend": true,
         "textposition": "auto",
         "type": "bar",
         "x": [
          "02/11/2020 01:11:27"
         ],
         "xaxis": "x",
         "y": [
          545
         ],
         "yaxis": "y"
        },
        {
         "alignmentgroup": "True",
         "customdata": [
          [
           "iPhone X 64gb Unlocked",
           390
          ]
         ],
         "hoverlabel": {
          "namelength": 0
         },
         "hovertemplate": "iPhone X Sale Price=%{customdata[1]}<br>date=%{x}<br>title=%{customdata[0]}",
         "legendgroup": "iPhone X Sale Price=390.0",
         "marker": {
          "color": "#19d3f3",
          "opacity": 0.5
         },
         "name": "iPhone X Sale Price=390.0",
         "offsetgroup": "iPhone X Sale Price=390.0",
         "orientation": "v",
         "showlegend": true,
         "textposition": "auto",
         "type": "bar",
         "x": [
          "02/13/2020 18:54:31"
         ],
         "xaxis": "x",
         "y": [
          390
         ],
         "yaxis": "y"
        },
        {
         "alignmentgroup": "True",
         "customdata": [
          [
           "iPhone XS",
           525
          ]
         ],
         "hoverlabel": {
          "namelength": 0
         },
         "hovertemplate": "iPhone X Sale Price=%{customdata[1]}<br>date=%{x}<br>title=%{customdata[0]}",
         "legendgroup": "iPhone X Sale Price=525.0",
         "marker": {
          "color": "#FF6692",
          "opacity": 0.5
         },
         "name": "iPhone X Sale Price=525.0",
         "offsetgroup": "iPhone X Sale Price=525.0",
         "orientation": "v",
         "showlegend": true,
         "textposition": "auto",
         "type": "bar",
         "x": [
          "02/15/2020 18:46:25"
         ],
         "xaxis": "x",
         "y": [
          525
         ],
         "yaxis": "y"
        },
        {
         "alignmentgroup": "True",
         "customdata": [
          [
           "iPhone XS MAX - 64GB - GOLD",
           600
          ]
         ],
         "hoverlabel": {
          "namelength": 0
         },
         "hovertemplate": "iPhone X Sale Price=%{customdata[1]}<br>date=%{x}<br>title=%{customdata[0]}",
         "legendgroup": "iPhone X Sale Price=600.0",
         "marker": {
          "color": "#B6E880",
          "opacity": 0.5
         },
         "name": "iPhone X Sale Price=600.0",
         "offsetgroup": "iPhone X Sale Price=600.0",
         "orientation": "v",
         "showlegend": true,
         "textposition": "auto",
         "type": "bar",
         "x": [
          "02/15/2020 20:42:47"
         ],
         "xaxis": "x",
         "y": [
          600
         ],
         "yaxis": "y"
        },
        {
         "alignmentgroup": "True",
         "customdata": [
          [
           "iPhone XR- Product Red- Unlocked",
           425
          ]
         ],
         "hoverlabel": {
          "namelength": 0
         },
         "hovertemplate": "iPhone X Sale Price=%{customdata[1]}<br>date=%{x}<br>title=%{customdata[0]}",
         "legendgroup": "iPhone X Sale Price=425.0",
         "marker": {
          "color": "#FF97FF",
          "opacity": 0.5
         },
         "name": "iPhone X Sale Price=425.0",
         "offsetgroup": "iPhone X Sale Price=425.0",
         "orientation": "v",
         "showlegend": true,
         "textposition": "auto",
         "type": "bar",
         "x": [
          "02/16/2020 05:15:41"
         ],
         "xaxis": "x",
         "y": [
          425
         ],
         "yaxis": "y"
        }
       ],
       "layout": {
        "barmode": "overlay",
        "height": 600,
        "legend": {
         "tracegroupgap": 0
        },
        "template": {
         "data": {
          "bar": [
           {
            "error_x": {
             "color": "#2a3f5f"
            },
            "error_y": {
             "color": "#2a3f5f"
            },
            "marker": {
             "line": {
              "color": "#E5ECF6",
              "width": 0.5
             }
            },
            "type": "bar"
           }
          ],
          "barpolar": [
           {
            "marker": {
             "line": {
              "color": "#E5ECF6",
              "width": 0.5
             }
            },
            "type": "barpolar"
           }
          ],
          "carpet": [
           {
            "aaxis": {
             "endlinecolor": "#2a3f5f",
             "gridcolor": "white",
             "linecolor": "white",
             "minorgridcolor": "white",
             "startlinecolor": "#2a3f5f"
            },
            "baxis": {
             "endlinecolor": "#2a3f5f",
             "gridcolor": "white",
             "linecolor": "white",
             "minorgridcolor": "white",
             "startlinecolor": "#2a3f5f"
            },
            "type": "carpet"
           }
          ],
          "choropleth": [
           {
            "colorbar": {
             "outlinewidth": 0,
             "ticks": ""
            },
            "type": "choropleth"
           }
          ],
          "contour": [
           {
            "colorbar": {
             "outlinewidth": 0,
             "ticks": ""
            },
            "colorscale": [
             [
              0,
              "#0d0887"
             ],
             [
              0.1111111111111111,
              "#46039f"
             ],
             [
              0.2222222222222222,
              "#7201a8"
             ],
             [
              0.3333333333333333,
              "#9c179e"
             ],
             [
              0.4444444444444444,
              "#bd3786"
             ],
             [
              0.5555555555555556,
              "#d8576b"
             ],
             [
              0.6666666666666666,
              "#ed7953"
             ],
             [
              0.7777777777777778,
              "#fb9f3a"
             ],
             [
              0.8888888888888888,
              "#fdca26"
             ],
             [
              1,
              "#f0f921"
             ]
            ],
            "type": "contour"
           }
          ],
          "contourcarpet": [
           {
            "colorbar": {
             "outlinewidth": 0,
             "ticks": ""
            },
            "type": "contourcarpet"
           }
          ],
          "heatmap": [
           {
            "colorbar": {
             "outlinewidth": 0,
             "ticks": ""
            },
            "colorscale": [
             [
              0,
              "#0d0887"
             ],
             [
              0.1111111111111111,
              "#46039f"
             ],
             [
              0.2222222222222222,
              "#7201a8"
             ],
             [
              0.3333333333333333,
              "#9c179e"
             ],
             [
              0.4444444444444444,
              "#bd3786"
             ],
             [
              0.5555555555555556,
              "#d8576b"
             ],
             [
              0.6666666666666666,
              "#ed7953"
             ],
             [
              0.7777777777777778,
              "#fb9f3a"
             ],
             [
              0.8888888888888888,
              "#fdca26"
             ],
             [
              1,
              "#f0f921"
             ]
            ],
            "type": "heatmap"
           }
          ],
          "heatmapgl": [
           {
            "colorbar": {
             "outlinewidth": 0,
             "ticks": ""
            },
            "colorscale": [
             [
              0,
              "#0d0887"
             ],
             [
              0.1111111111111111,
              "#46039f"
             ],
             [
              0.2222222222222222,
              "#7201a8"
             ],
             [
              0.3333333333333333,
              "#9c179e"
             ],
             [
              0.4444444444444444,
              "#bd3786"
             ],
             [
              0.5555555555555556,
              "#d8576b"
             ],
             [
              0.6666666666666666,
              "#ed7953"
             ],
             [
              0.7777777777777778,
              "#fb9f3a"
             ],
             [
              0.8888888888888888,
              "#fdca26"
             ],
             [
              1,
              "#f0f921"
             ]
            ],
            "type": "heatmapgl"
           }
          ],
          "histogram": [
           {
            "marker": {
             "colorbar": {
              "outlinewidth": 0,
              "ticks": ""
             }
            },
            "type": "histogram"
           }
          ],
          "histogram2d": [
           {
            "colorbar": {
             "outlinewidth": 0,
             "ticks": ""
            },
            "colorscale": [
             [
              0,
              "#0d0887"
             ],
             [
              0.1111111111111111,
              "#46039f"
             ],
             [
              0.2222222222222222,
              "#7201a8"
             ],
             [
              0.3333333333333333,
              "#9c179e"
             ],
             [
              0.4444444444444444,
              "#bd3786"
             ],
             [
              0.5555555555555556,
              "#d8576b"
             ],
             [
              0.6666666666666666,
              "#ed7953"
             ],
             [
              0.7777777777777778,
              "#fb9f3a"
             ],
             [
              0.8888888888888888,
              "#fdca26"
             ],
             [
              1,
              "#f0f921"
             ]
            ],
            "type": "histogram2d"
           }
          ],
          "histogram2dcontour": [
           {
            "colorbar": {
             "outlinewidth": 0,
             "ticks": ""
            },
            "colorscale": [
             [
              0,
              "#0d0887"
             ],
             [
              0.1111111111111111,
              "#46039f"
             ],
             [
              0.2222222222222222,
              "#7201a8"
             ],
             [
              0.3333333333333333,
              "#9c179e"
             ],
             [
              0.4444444444444444,
              "#bd3786"
             ],
             [
              0.5555555555555556,
              "#d8576b"
             ],
             [
              0.6666666666666666,
              "#ed7953"
             ],
             [
              0.7777777777777778,
              "#fb9f3a"
             ],
             [
              0.8888888888888888,
              "#fdca26"
             ],
             [
              1,
              "#f0f921"
             ]
            ],
            "type": "histogram2dcontour"
           }
          ],
          "mesh3d": [
           {
            "colorbar": {
             "outlinewidth": 0,
             "ticks": ""
            },
            "type": "mesh3d"
           }
          ],
          "parcoords": [
           {
            "line": {
             "colorbar": {
              "outlinewidth": 0,
              "ticks": ""
             }
            },
            "type": "parcoords"
           }
          ],
          "scatter": [
           {
            "marker": {
             "colorbar": {
              "outlinewidth": 0,
              "ticks": ""
             }
            },
            "type": "scatter"
           }
          ],
          "scatter3d": [
           {
            "line": {
             "colorbar": {
              "outlinewidth": 0,
              "ticks": ""
             }
            },
            "marker": {
             "colorbar": {
              "outlinewidth": 0,
              "ticks": ""
             }
            },
            "type": "scatter3d"
           }
          ],
          "scattercarpet": [
           {
            "marker": {
             "colorbar": {
              "outlinewidth": 0,
              "ticks": ""
             }
            },
            "type": "scattercarpet"
           }
          ],
          "scattergeo": [
           {
            "marker": {
             "colorbar": {
              "outlinewidth": 0,
              "ticks": ""
             }
            },
            "type": "scattergeo"
           }
          ],
          "scattergl": [
           {
            "marker": {
             "colorbar": {
              "outlinewidth": 0,
              "ticks": ""
             }
            },
            "type": "scattergl"
           }
          ],
          "scattermapbox": [
           {
            "marker": {
             "colorbar": {
              "outlinewidth": 0,
              "ticks": ""
             }
            },
            "type": "scattermapbox"
           }
          ],
          "scatterpolar": [
           {
            "marker": {
             "colorbar": {
              "outlinewidth": 0,
              "ticks": ""
             }
            },
            "type": "scatterpolar"
           }
          ],
          "scatterpolargl": [
           {
            "marker": {
             "colorbar": {
              "outlinewidth": 0,
              "ticks": ""
             }
            },
            "type": "scatterpolargl"
           }
          ],
          "scatterternary": [
           {
            "marker": {
             "colorbar": {
              "outlinewidth": 0,
              "ticks": ""
             }
            },
            "type": "scatterternary"
           }
          ],
          "surface": [
           {
            "colorbar": {
             "outlinewidth": 0,
             "ticks": ""
            },
            "colorscale": [
             [
              0,
              "#0d0887"
             ],
             [
              0.1111111111111111,
              "#46039f"
             ],
             [
              0.2222222222222222,
              "#7201a8"
             ],
             [
              0.3333333333333333,
              "#9c179e"
             ],
             [
              0.4444444444444444,
              "#bd3786"
             ],
             [
              0.5555555555555556,
              "#d8576b"
             ],
             [
              0.6666666666666666,
              "#ed7953"
             ],
             [
              0.7777777777777778,
              "#fb9f3a"
             ],
             [
              0.8888888888888888,
              "#fdca26"
             ],
             [
              1,
              "#f0f921"
             ]
            ],
            "type": "surface"
           }
          ],
          "table": [
           {
            "cells": {
             "fill": {
              "color": "#EBF0F8"
             },
             "line": {
              "color": "white"
             }
            },
            "header": {
             "fill": {
              "color": "#C8D4E3"
             },
             "line": {
              "color": "white"
             }
            },
            "type": "table"
           }
          ]
         },
         "layout": {
          "annotationdefaults": {
           "arrowcolor": "#2a3f5f",
           "arrowhead": 0,
           "arrowwidth": 1
          },
          "colorscale": {
           "diverging": [
            [
             0,
             "#8e0152"
            ],
            [
             0.1,
             "#c51b7d"
            ],
            [
             0.2,
             "#de77ae"
            ],
            [
             0.3,
             "#f1b6da"
            ],
            [
             0.4,
             "#fde0ef"
            ],
            [
             0.5,
             "#f7f7f7"
            ],
            [
             0.6,
             "#e6f5d0"
            ],
            [
             0.7,
             "#b8e186"
            ],
            [
             0.8,
             "#7fbc41"
            ],
            [
             0.9,
             "#4d9221"
            ],
            [
             1,
             "#276419"
            ]
           ],
           "sequential": [
            [
             0,
             "#0d0887"
            ],
            [
             0.1111111111111111,
             "#46039f"
            ],
            [
             0.2222222222222222,
             "#7201a8"
            ],
            [
             0.3333333333333333,
             "#9c179e"
            ],
            [
             0.4444444444444444,
             "#bd3786"
            ],
            [
             0.5555555555555556,
             "#d8576b"
            ],
            [
             0.6666666666666666,
             "#ed7953"
            ],
            [
             0.7777777777777778,
             "#fb9f3a"
            ],
            [
             0.8888888888888888,
             "#fdca26"
            ],
            [
             1,
             "#f0f921"
            ]
           ],
           "sequentialminus": [
            [
             0,
             "#0d0887"
            ],
            [
             0.1111111111111111,
             "#46039f"
            ],
            [
             0.2222222222222222,
             "#7201a8"
            ],
            [
             0.3333333333333333,
             "#9c179e"
            ],
            [
             0.4444444444444444,
             "#bd3786"
            ],
            [
             0.5555555555555556,
             "#d8576b"
            ],
            [
             0.6666666666666666,
             "#ed7953"
            ],
            [
             0.7777777777777778,
             "#fb9f3a"
            ],
            [
             0.8888888888888888,
             "#fdca26"
            ],
            [
             1,
             "#f0f921"
            ]
           ]
          },
          "colorway": [
           "#636efa",
           "#EF553B",
           "#00cc96",
           "#ab63fa",
           "#FFA15A",
           "#19d3f3",
           "#FF6692",
           "#B6E880",
           "#FF97FF",
           "#FECB52"
          ],
          "font": {
           "color": "#2a3f5f"
          },
          "geo": {
           "bgcolor": "white",
           "lakecolor": "white",
           "landcolor": "#E5ECF6",
           "showlakes": true,
           "showland": true,
           "subunitcolor": "white"
          },
          "hoverlabel": {
           "align": "left"
          },
          "hovermode": "closest",
          "mapbox": {
           "style": "light"
          },
          "paper_bgcolor": "white",
          "plot_bgcolor": "#E5ECF6",
          "polar": {
           "angularaxis": {
            "gridcolor": "white",
            "linecolor": "white",
            "ticks": ""
           },
           "bgcolor": "#E5ECF6",
           "radialaxis": {
            "gridcolor": "white",
            "linecolor": "white",
            "ticks": ""
           }
          },
          "scene": {
           "xaxis": {
            "backgroundcolor": "#E5ECF6",
            "gridcolor": "white",
            "gridwidth": 2,
            "linecolor": "white",
            "showbackground": true,
            "ticks": "",
            "zerolinecolor": "white"
           },
           "yaxis": {
            "backgroundcolor": "#E5ECF6",
            "gridcolor": "white",
            "gridwidth": 2,
            "linecolor": "white",
            "showbackground": true,
            "ticks": "",
            "zerolinecolor": "white"
           },
           "zaxis": {
            "backgroundcolor": "#E5ECF6",
            "gridcolor": "white",
            "gridwidth": 2,
            "linecolor": "white",
            "showbackground": true,
            "ticks": "",
            "zerolinecolor": "white"
           }
          },
          "shapedefaults": {
           "line": {
            "color": "#2a3f5f"
           }
          },
          "ternary": {
           "aaxis": {
            "gridcolor": "white",
            "linecolor": "white",
            "ticks": ""
           },
           "baxis": {
            "gridcolor": "white",
            "linecolor": "white",
            "ticks": ""
           },
           "bgcolor": "#E5ECF6",
           "caxis": {
            "gridcolor": "white",
            "linecolor": "white",
            "ticks": ""
           }
          },
          "title": {
           "x": 0.05
          },
          "xaxis": {
           "automargin": true,
           "gridcolor": "white",
           "linecolor": "white",
           "ticks": "",
           "zerolinecolor": "white",
           "zerolinewidth": 2
          },
          "yaxis": {
           "automargin": true,
           "gridcolor": "white",
           "linecolor": "white",
           "ticks": "",
           "zerolinecolor": "white",
           "zerolinewidth": 2
          }
         }
        },
        "title": {
         "text": "Iphone X Sales by date"
        },
        "xaxis": {
         "anchor": "y",
         "domain": [
          0,
          0.98
         ],
         "title": {
          "text": "date"
         }
        },
        "yaxis": {
         "anchor": "x",
         "categoryarray": [
          425,
          600,
          525,
          390,
          545,
          470,
          412.5,
          595,
          550,
          520,
          650,
          350,
          370,
          330,
          400,
          535,
          669,
          450,
          500
         ],
         "categoryorder": "array",
         "domain": [
          0,
          1
         ],
         "title": {
          "text": "iPhone X Sale Price"
         }
        }
       }
      },
      "text/html": [
       "<div>\n",
       "        \n",
       "        \n",
       "            <div id=\"10fe9a8d-961f-4a73-a90b-a82b0bba08dc\" class=\"plotly-graph-div\" style=\"height:600px; width:100%;\"></div>\n",
       "            <script type=\"text/javascript\">\n",
       "                require([\"plotly\"], function(Plotly) {\n",
       "                    window.PLOTLYENV=window.PLOTLYENV || {};\n",
       "                    \n",
       "                if (document.getElementById(\"10fe9a8d-961f-4a73-a90b-a82b0bba08dc\")) {\n",
       "                    Plotly.newPlot(\n",
       "                        '10fe9a8d-961f-4a73-a90b-a82b0bba08dc',\n",
       "                        [{\"alignmentgroup\": \"True\", \"customdata\": [[\"iPhone XR 64gb W/ Apple Care\", 500], [\"Unlocked iPhone X 256gb Space Gray (CDMA/GSM)\", 500], [\"Unlocked iPhone XS\", 500], [\"Sprint iPhone XS Max 64GB with Swappa Insurance\", 500]], \"hoverlabel\": {\"namelength\": 0}, \"hovertemplate\": \"iPhone X Sale Price=%{customdata[1]}<br>date=%{x}<br>title=%{customdata[0]}\", \"legendgroup\": \"iPhone X Sale Price=500.0\", \"marker\": {\"color\": \"#636efa\", \"opacity\": 0.5}, \"name\": \"iPhone X Sale Price=500.0\", \"offsetgroup\": \"iPhone X Sale Price=500.0\", \"orientation\": \"v\", \"showlegend\": true, \"textposition\": \"auto\", \"type\": \"bar\", \"x\": [\"12/25/2019\", \"12/26/2019\", \"12/29/2019\", \"02/13/2020 00:25:43\"], \"xaxis\": \"x\", \"y\": [500, 500, 500, 500], \"yaxis\": \"y\"}, {\"alignmentgroup\": \"True\", \"customdata\": [[\"Apple iPhone X 256gb Factory unlocked.\", 450], [\"Unlocked iPhone X 64GB\", 450], [\"Yellow iPhone XR 64GB\", 450], [\"iPhone XR 128gb\", 450]], \"hoverlabel\": {\"namelength\": 0}, \"hovertemplate\": \"iPhone X Sale Price=%{customdata[1]}<br>date=%{x}<br>title=%{customdata[0]}\", \"legendgroup\": \"iPhone X Sale Price=450.0\", \"marker\": {\"color\": \"#EF553B\", \"opacity\": 0.5}, \"name\": \"iPhone X Sale Price=450.0\", \"offsetgroup\": \"iPhone X Sale Price=450.0\", \"orientation\": \"v\", \"showlegend\": true, \"textposition\": \"auto\", \"type\": \"bar\", \"x\": [\"12/25/2019\", \"01/01/2020 16:19:00\", \"01/15/2020 10:38:20\", \"02/10/2020 06:38:02\"], \"xaxis\": \"x\", \"y\": [450, 450, 450, 450], \"yaxis\": \"y\"}, {\"alignmentgroup\": \"True\", \"customdata\": [[\"iPhone XS 256gb Gold\", 669]], \"hoverlabel\": {\"namelength\": 0}, \"hovertemplate\": \"iPhone X Sale Price=%{customdata[1]}<br>date=%{x}<br>title=%{customdata[0]}\", \"legendgroup\": \"iPhone X Sale Price=669.0\", \"marker\": {\"color\": \"#00cc96\", \"opacity\": 0.5}, \"name\": \"iPhone X Sale Price=669.0\", \"offsetgroup\": \"iPhone X Sale Price=669.0\", \"orientation\": \"v\", \"showlegend\": true, \"textposition\": \"auto\", \"type\": \"bar\", \"x\": [\"12/27/2019\"], \"xaxis\": \"x\", \"y\": [669], \"yaxis\": \"y\"}, {\"alignmentgroup\": \"True\", \"customdata\": [[\"Verizon iPhone X Silver 256GB 100% battery health\", 535]], \"hoverlabel\": {\"namelength\": 0}, \"hovertemplate\": \"iPhone X Sale Price=%{customdata[1]}<br>date=%{x}<br>title=%{customdata[0]}\", \"legendgroup\": \"iPhone X Sale Price=535.0\", \"marker\": {\"color\": \"#ab63fa\", \"opacity\": 0.5}, \"name\": \"iPhone X Sale Price=535.0\", \"offsetgroup\": \"iPhone X Sale Price=535.0\", \"orientation\": \"v\", \"showlegend\": true, \"textposition\": \"auto\", \"type\": \"bar\", \"x\": [\"12/27/2019\"], \"xaxis\": \"x\", \"y\": [535], \"yaxis\": \"y\"}, {\"alignmentgroup\": \"True\", \"customdata\": [[\"iPhone X 64GB Black\", 400], [\"iPhone X 64GB (Black) Unlocked\", 400], [\"Yellow iPhone XR 64GB\", 400]], \"hoverlabel\": {\"namelength\": 0}, \"hovertemplate\": \"iPhone X Sale Price=%{customdata[1]}<br>date=%{x}<br>title=%{customdata[0]}\", \"legendgroup\": \"iPhone X Sale Price=400.0\", \"marker\": {\"color\": \"#FFA15A\", \"opacity\": 0.5}, \"name\": \"iPhone X Sale Price=400.0\", \"offsetgroup\": \"iPhone X Sale Price=400.0\", \"orientation\": \"v\", \"showlegend\": true, \"textposition\": \"auto\", \"type\": \"bar\", \"x\": [\"12/28/2019\", \"12/28/2019\", \"01/20/2020 16:44:49\"], \"xaxis\": \"x\", \"y\": [400, 400, 400], \"yaxis\": \"y\"}, {\"alignmentgroup\": \"True\", \"customdata\": [[\"2 iPhone X unlocked\", 330]], \"hoverlabel\": {\"namelength\": 0}, \"hovertemplate\": \"iPhone X Sale Price=%{customdata[1]}<br>date=%{x}<br>title=%{customdata[0]}\", \"legendgroup\": \"iPhone X Sale Price=330.0\", \"marker\": {\"color\": \"#19d3f3\", \"opacity\": 0.5}, \"name\": \"iPhone X Sale Price=330.0\", \"offsetgroup\": \"iPhone X Sale Price=330.0\", \"orientation\": \"v\", \"showlegend\": true, \"textposition\": \"auto\", \"type\": \"bar\", \"x\": [\"01/01/2020 02:36:13\"], \"xaxis\": \"x\", \"y\": [330], \"yaxis\": \"y\"}, {\"alignmentgroup\": \"True\", \"customdata\": [[\"Unlocked 64GB iPhone X offers\", 370]], \"hoverlabel\": {\"namelength\": 0}, \"hovertemplate\": \"iPhone X Sale Price=%{customdata[1]}<br>date=%{x}<br>title=%{customdata[0]}\", \"legendgroup\": \"iPhone X Sale Price=370.0\", \"marker\": {\"color\": \"#FF6692\", \"opacity\": 0.5}, \"name\": \"iPhone X Sale Price=370.0\", \"offsetgroup\": \"iPhone X Sale Price=370.0\", \"orientation\": \"v\", \"showlegend\": true, \"textposition\": \"auto\", \"type\": \"bar\", \"x\": [\"01/04/2020 01:18:41\"], \"xaxis\": \"x\", \"y\": [370], \"yaxis\": \"y\"}, {\"alignmentgroup\": \"True\", \"customdata\": [[\"iPhone X 64gb unlocked\", 350]], \"hoverlabel\": {\"namelength\": 0}, \"hovertemplate\": \"iPhone X Sale Price=%{customdata[1]}<br>date=%{x}<br>title=%{customdata[0]}\", \"legendgroup\": \"iPhone X Sale Price=350.0\", \"marker\": {\"color\": \"#B6E880\", \"opacity\": 0.5}, \"name\": \"iPhone X Sale Price=350.0\", \"offsetgroup\": \"iPhone X Sale Price=350.0\", \"orientation\": \"v\", \"showlegend\": true, \"textposition\": \"auto\", \"type\": \"bar\", \"x\": [\"01/06/2020 10:06:30\"], \"xaxis\": \"x\", \"y\": [350], \"yaxis\": \"y\"}, {\"alignmentgroup\": \"True\", \"customdata\": [[\"iPhone XS Max 64GB Space Gray\", 650]], \"hoverlabel\": {\"namelength\": 0}, \"hovertemplate\": \"iPhone X Sale Price=%{customdata[1]}<br>date=%{x}<br>title=%{customdata[0]}\", \"legendgroup\": \"iPhone X Sale Price=650.0\", \"marker\": {\"color\": \"#FF97FF\", \"opacity\": 0.5}, \"name\": \"iPhone X Sale Price=650.0\", \"offsetgroup\": \"iPhone X Sale Price=650.0\", \"orientation\": \"v\", \"showlegend\": true, \"textposition\": \"auto\", \"type\": \"bar\", \"x\": [\"01/08/2020 10:29:19\"], \"xaxis\": \"x\", \"y\": [650], \"yaxis\": \"y\"}, {\"alignmentgroup\": \"True\", \"customdata\": [[\"iPhone X 256GB\", 520]], \"hoverlabel\": {\"namelength\": 0}, \"hovertemplate\": \"iPhone X Sale Price=%{customdata[1]}<br>date=%{x}<br>title=%{customdata[0]}\", \"legendgroup\": \"iPhone X Sale Price=520.0\", \"marker\": {\"color\": \"#FECB52\", \"opacity\": 0.5}, \"name\": \"iPhone X Sale Price=520.0\", \"offsetgroup\": \"iPhone X Sale Price=520.0\", \"orientation\": \"v\", \"showlegend\": true, \"textposition\": \"auto\", \"type\": \"bar\", \"x\": [\"01/08/2020 08:00:54\"], \"xaxis\": \"x\", \"y\": [520], \"yaxis\": \"y\"}, {\"alignmentgroup\": \"True\", \"customdata\": [[\"iPhone X 256gb Unlocked\", 550], [\"Silver iPhone X 256 gb\", 550], [\"iPhone XS Max Black 256 GB\", 550]], \"hoverlabel\": {\"namelength\": 0}, \"hovertemplate\": \"iPhone X Sale Price=%{customdata[1]}<br>date=%{x}<br>title=%{customdata[0]}\", \"legendgroup\": \"iPhone X Sale Price=550.0\", \"marker\": {\"color\": \"#636efa\", \"opacity\": 0.5}, \"name\": \"iPhone X Sale Price=550.0\", \"offsetgroup\": \"iPhone X Sale Price=550.0\", \"orientation\": \"v\", \"showlegend\": true, \"textposition\": \"auto\", \"type\": \"bar\", \"x\": [\"01/10/2020 10:50:56\", \"01/09/2020 16:27:13\", \"01/31/2020 15:07:24\"], \"xaxis\": \"x\", \"y\": [550, 550, 550], \"yaxis\": \"y\"}, {\"alignmentgroup\": \"True\", \"customdata\": [[\"iPhone XS Max 64GB Space Gray\", 595]], \"hoverlabel\": {\"namelength\": 0}, \"hovertemplate\": \"iPhone X Sale Price=%{customdata[1]}<br>date=%{x}<br>title=%{customdata[0]}\", \"legendgroup\": \"iPhone X Sale Price=595.0\", \"marker\": {\"color\": \"#EF553B\", \"opacity\": 0.5}, \"name\": \"iPhone X Sale Price=595.0\", \"offsetgroup\": \"iPhone X Sale Price=595.0\", \"orientation\": \"v\", \"showlegend\": true, \"textposition\": \"auto\", \"type\": \"bar\", \"x\": [\"01/12/2020 12:39:41\"], \"xaxis\": \"x\", \"y\": [595], \"yaxis\": \"y\"}, {\"alignmentgroup\": \"True\", \"customdata\": [[\"iPhone XR 64gb Factory Unlocked Factory Red\", 412.5]], \"hoverlabel\": {\"namelength\": 0}, \"hovertemplate\": \"iPhone X Sale Price=%{customdata[1]}<br>date=%{x}<br>title=%{customdata[0]}\", \"legendgroup\": \"iPhone X Sale Price=412.5\", \"marker\": {\"color\": \"#00cc96\", \"opacity\": 0.5}, \"name\": \"iPhone X Sale Price=412.5\", \"offsetgroup\": \"iPhone X Sale Price=412.5\", \"orientation\": \"v\", \"showlegend\": true, \"textposition\": \"auto\", \"type\": \"bar\", \"x\": [\"01/15/2020 17:21:23\"], \"xaxis\": \"x\", \"y\": [412.5], \"yaxis\": \"y\"}, {\"alignmentgroup\": \"True\", \"customdata\": [[\"iPhone Xs\", 470]], \"hoverlabel\": {\"namelength\": 0}, \"hovertemplate\": \"iPhone X Sale Price=%{customdata[1]}<br>date=%{x}<br>title=%{customdata[0]}\", \"legendgroup\": \"iPhone X Sale Price=470.0\", \"marker\": {\"color\": \"#ab63fa\", \"opacity\": 0.5}, \"name\": \"iPhone X Sale Price=470.0\", \"offsetgroup\": \"iPhone X Sale Price=470.0\", \"orientation\": \"v\", \"showlegend\": true, \"textposition\": \"auto\", \"type\": \"bar\", \"x\": [\"01/22/2020 19:34:58\"], \"xaxis\": \"x\", \"y\": [470], \"yaxis\": \"y\"}, {\"alignmentgroup\": \"True\", \"customdata\": [[\"Sprint iPhone XS Max 64GB with Swappa Insurance\", 545]], \"hoverlabel\": {\"namelength\": 0}, \"hovertemplate\": \"iPhone X Sale Price=%{customdata[1]}<br>date=%{x}<br>title=%{customdata[0]}\", \"legendgroup\": \"iPhone X Sale Price=545.0\", \"marker\": {\"color\": \"#FFA15A\", \"opacity\": 0.5}, \"name\": \"iPhone X Sale Price=545.0\", \"offsetgroup\": \"iPhone X Sale Price=545.0\", \"orientation\": \"v\", \"showlegend\": true, \"textposition\": \"auto\", \"type\": \"bar\", \"x\": [\"02/11/2020 01:11:27\"], \"xaxis\": \"x\", \"y\": [545], \"yaxis\": \"y\"}, {\"alignmentgroup\": \"True\", \"customdata\": [[\"iPhone X 64gb Unlocked\", 390]], \"hoverlabel\": {\"namelength\": 0}, \"hovertemplate\": \"iPhone X Sale Price=%{customdata[1]}<br>date=%{x}<br>title=%{customdata[0]}\", \"legendgroup\": \"iPhone X Sale Price=390.0\", \"marker\": {\"color\": \"#19d3f3\", \"opacity\": 0.5}, \"name\": \"iPhone X Sale Price=390.0\", \"offsetgroup\": \"iPhone X Sale Price=390.0\", \"orientation\": \"v\", \"showlegend\": true, \"textposition\": \"auto\", \"type\": \"bar\", \"x\": [\"02/13/2020 18:54:31\"], \"xaxis\": \"x\", \"y\": [390], \"yaxis\": \"y\"}, {\"alignmentgroup\": \"True\", \"customdata\": [[\"iPhone XS\", 525]], \"hoverlabel\": {\"namelength\": 0}, \"hovertemplate\": \"iPhone X Sale Price=%{customdata[1]}<br>date=%{x}<br>title=%{customdata[0]}\", \"legendgroup\": \"iPhone X Sale Price=525.0\", \"marker\": {\"color\": \"#FF6692\", \"opacity\": 0.5}, \"name\": \"iPhone X Sale Price=525.0\", \"offsetgroup\": \"iPhone X Sale Price=525.0\", \"orientation\": \"v\", \"showlegend\": true, \"textposition\": \"auto\", \"type\": \"bar\", \"x\": [\"02/15/2020 18:46:25\"], \"xaxis\": \"x\", \"y\": [525], \"yaxis\": \"y\"}, {\"alignmentgroup\": \"True\", \"customdata\": [[\"iPhone XS MAX - 64GB - GOLD\", 600]], \"hoverlabel\": {\"namelength\": 0}, \"hovertemplate\": \"iPhone X Sale Price=%{customdata[1]}<br>date=%{x}<br>title=%{customdata[0]}\", \"legendgroup\": \"iPhone X Sale Price=600.0\", \"marker\": {\"color\": \"#B6E880\", \"opacity\": 0.5}, \"name\": \"iPhone X Sale Price=600.0\", \"offsetgroup\": \"iPhone X Sale Price=600.0\", \"orientation\": \"v\", \"showlegend\": true, \"textposition\": \"auto\", \"type\": \"bar\", \"x\": [\"02/15/2020 20:42:47\"], \"xaxis\": \"x\", \"y\": [600], \"yaxis\": \"y\"}, {\"alignmentgroup\": \"True\", \"customdata\": [[\"iPhone XR- Product Red- Unlocked\", 425]], \"hoverlabel\": {\"namelength\": 0}, \"hovertemplate\": \"iPhone X Sale Price=%{customdata[1]}<br>date=%{x}<br>title=%{customdata[0]}\", \"legendgroup\": \"iPhone X Sale Price=425.0\", \"marker\": {\"color\": \"#FF97FF\", \"opacity\": 0.5}, \"name\": \"iPhone X Sale Price=425.0\", \"offsetgroup\": \"iPhone X Sale Price=425.0\", \"orientation\": \"v\", \"showlegend\": true, \"textposition\": \"auto\", \"type\": \"bar\", \"x\": [\"02/16/2020 05:15:41\"], \"xaxis\": \"x\", \"y\": [425], \"yaxis\": \"y\"}],\n",
       "                        {\"barmode\": \"overlay\", \"height\": 600, \"legend\": {\"tracegroupgap\": 0}, \"template\": {\"data\": {\"bar\": [{\"error_x\": {\"color\": \"#2a3f5f\"}, \"error_y\": {\"color\": \"#2a3f5f\"}, \"marker\": {\"line\": {\"color\": \"#E5ECF6\", \"width\": 0.5}}, \"type\": \"bar\"}], \"barpolar\": [{\"marker\": {\"line\": {\"color\": \"#E5ECF6\", \"width\": 0.5}}, \"type\": \"barpolar\"}], \"carpet\": [{\"aaxis\": {\"endlinecolor\": \"#2a3f5f\", \"gridcolor\": \"white\", \"linecolor\": \"white\", \"minorgridcolor\": \"white\", \"startlinecolor\": \"#2a3f5f\"}, \"baxis\": {\"endlinecolor\": \"#2a3f5f\", \"gridcolor\": \"white\", \"linecolor\": \"white\", \"minorgridcolor\": \"white\", \"startlinecolor\": \"#2a3f5f\"}, \"type\": \"carpet\"}], \"choropleth\": [{\"colorbar\": {\"outlinewidth\": 0, \"ticks\": \"\"}, \"type\": \"choropleth\"}], \"contour\": [{\"colorbar\": {\"outlinewidth\": 0, \"ticks\": \"\"}, \"colorscale\": [[0.0, \"#0d0887\"], [0.1111111111111111, \"#46039f\"], [0.2222222222222222, \"#7201a8\"], [0.3333333333333333, \"#9c179e\"], [0.4444444444444444, \"#bd3786\"], [0.5555555555555556, \"#d8576b\"], [0.6666666666666666, \"#ed7953\"], [0.7777777777777778, \"#fb9f3a\"], [0.8888888888888888, \"#fdca26\"], [1.0, \"#f0f921\"]], \"type\": \"contour\"}], \"contourcarpet\": [{\"colorbar\": {\"outlinewidth\": 0, \"ticks\": \"\"}, \"type\": \"contourcarpet\"}], \"heatmap\": [{\"colorbar\": {\"outlinewidth\": 0, \"ticks\": \"\"}, \"colorscale\": [[0.0, \"#0d0887\"], [0.1111111111111111, \"#46039f\"], [0.2222222222222222, \"#7201a8\"], [0.3333333333333333, \"#9c179e\"], [0.4444444444444444, \"#bd3786\"], [0.5555555555555556, \"#d8576b\"], [0.6666666666666666, \"#ed7953\"], [0.7777777777777778, \"#fb9f3a\"], [0.8888888888888888, \"#fdca26\"], [1.0, \"#f0f921\"]], \"type\": \"heatmap\"}], \"heatmapgl\": [{\"colorbar\": {\"outlinewidth\": 0, \"ticks\": \"\"}, \"colorscale\": [[0.0, \"#0d0887\"], [0.1111111111111111, \"#46039f\"], [0.2222222222222222, \"#7201a8\"], [0.3333333333333333, \"#9c179e\"], [0.4444444444444444, \"#bd3786\"], [0.5555555555555556, \"#d8576b\"], [0.6666666666666666, \"#ed7953\"], [0.7777777777777778, \"#fb9f3a\"], [0.8888888888888888, \"#fdca26\"], [1.0, \"#f0f921\"]], \"type\": \"heatmapgl\"}], \"histogram\": [{\"marker\": {\"colorbar\": {\"outlinewidth\": 0, \"ticks\": \"\"}}, \"type\": \"histogram\"}], \"histogram2d\": [{\"colorbar\": {\"outlinewidth\": 0, \"ticks\": \"\"}, \"colorscale\": [[0.0, \"#0d0887\"], [0.1111111111111111, \"#46039f\"], [0.2222222222222222, \"#7201a8\"], [0.3333333333333333, \"#9c179e\"], [0.4444444444444444, \"#bd3786\"], [0.5555555555555556, \"#d8576b\"], [0.6666666666666666, \"#ed7953\"], [0.7777777777777778, \"#fb9f3a\"], [0.8888888888888888, \"#fdca26\"], [1.0, \"#f0f921\"]], \"type\": \"histogram2d\"}], \"histogram2dcontour\": [{\"colorbar\": {\"outlinewidth\": 0, \"ticks\": \"\"}, \"colorscale\": [[0.0, \"#0d0887\"], [0.1111111111111111, \"#46039f\"], [0.2222222222222222, \"#7201a8\"], [0.3333333333333333, \"#9c179e\"], [0.4444444444444444, \"#bd3786\"], [0.5555555555555556, \"#d8576b\"], [0.6666666666666666, \"#ed7953\"], [0.7777777777777778, \"#fb9f3a\"], [0.8888888888888888, \"#fdca26\"], [1.0, \"#f0f921\"]], \"type\": \"histogram2dcontour\"}], \"mesh3d\": [{\"colorbar\": {\"outlinewidth\": 0, \"ticks\": \"\"}, \"type\": \"mesh3d\"}], \"parcoords\": [{\"line\": {\"colorbar\": {\"outlinewidth\": 0, \"ticks\": \"\"}}, \"type\": \"parcoords\"}], \"scatter\": [{\"marker\": {\"colorbar\": {\"outlinewidth\": 0, \"ticks\": \"\"}}, \"type\": \"scatter\"}], \"scatter3d\": [{\"line\": {\"colorbar\": {\"outlinewidth\": 0, \"ticks\": \"\"}}, \"marker\": {\"colorbar\": {\"outlinewidth\": 0, \"ticks\": \"\"}}, \"type\": \"scatter3d\"}], \"scattercarpet\": [{\"marker\": {\"colorbar\": {\"outlinewidth\": 0, \"ticks\": \"\"}}, \"type\": \"scattercarpet\"}], \"scattergeo\": [{\"marker\": {\"colorbar\": {\"outlinewidth\": 0, \"ticks\": \"\"}}, \"type\": \"scattergeo\"}], \"scattergl\": [{\"marker\": {\"colorbar\": {\"outlinewidth\": 0, \"ticks\": \"\"}}, \"type\": \"scattergl\"}], \"scattermapbox\": [{\"marker\": {\"colorbar\": {\"outlinewidth\": 0, \"ticks\": \"\"}}, \"type\": \"scattermapbox\"}], \"scatterpolar\": [{\"marker\": {\"colorbar\": {\"outlinewidth\": 0, \"ticks\": \"\"}}, \"type\": \"scatterpolar\"}], \"scatterpolargl\": [{\"marker\": {\"colorbar\": {\"outlinewidth\": 0, \"ticks\": \"\"}}, \"type\": \"scatterpolargl\"}], \"scatterternary\": [{\"marker\": {\"colorbar\": {\"outlinewidth\": 0, \"ticks\": \"\"}}, \"type\": \"scatterternary\"}], \"surface\": [{\"colorbar\": {\"outlinewidth\": 0, \"ticks\": \"\"}, \"colorscale\": [[0.0, \"#0d0887\"], [0.1111111111111111, \"#46039f\"], [0.2222222222222222, \"#7201a8\"], [0.3333333333333333, \"#9c179e\"], [0.4444444444444444, \"#bd3786\"], [0.5555555555555556, \"#d8576b\"], [0.6666666666666666, \"#ed7953\"], [0.7777777777777778, \"#fb9f3a\"], [0.8888888888888888, \"#fdca26\"], [1.0, \"#f0f921\"]], \"type\": \"surface\"}], \"table\": [{\"cells\": {\"fill\": {\"color\": \"#EBF0F8\"}, \"line\": {\"color\": \"white\"}}, \"header\": {\"fill\": {\"color\": \"#C8D4E3\"}, \"line\": {\"color\": \"white\"}}, \"type\": \"table\"}]}, \"layout\": {\"annotationdefaults\": {\"arrowcolor\": \"#2a3f5f\", \"arrowhead\": 0, \"arrowwidth\": 1}, \"colorscale\": {\"diverging\": [[0, \"#8e0152\"], [0.1, \"#c51b7d\"], [0.2, \"#de77ae\"], [0.3, \"#f1b6da\"], [0.4, \"#fde0ef\"], [0.5, \"#f7f7f7\"], [0.6, \"#e6f5d0\"], [0.7, \"#b8e186\"], [0.8, \"#7fbc41\"], [0.9, \"#4d9221\"], [1, \"#276419\"]], \"sequential\": [[0.0, \"#0d0887\"], [0.1111111111111111, \"#46039f\"], [0.2222222222222222, \"#7201a8\"], [0.3333333333333333, \"#9c179e\"], [0.4444444444444444, \"#bd3786\"], [0.5555555555555556, \"#d8576b\"], [0.6666666666666666, \"#ed7953\"], [0.7777777777777778, \"#fb9f3a\"], [0.8888888888888888, \"#fdca26\"], [1.0, \"#f0f921\"]], \"sequentialminus\": [[0.0, \"#0d0887\"], [0.1111111111111111, \"#46039f\"], [0.2222222222222222, \"#7201a8\"], [0.3333333333333333, \"#9c179e\"], [0.4444444444444444, \"#bd3786\"], [0.5555555555555556, \"#d8576b\"], [0.6666666666666666, \"#ed7953\"], [0.7777777777777778, \"#fb9f3a\"], [0.8888888888888888, \"#fdca26\"], [1.0, \"#f0f921\"]]}, \"colorway\": [\"#636efa\", \"#EF553B\", \"#00cc96\", \"#ab63fa\", \"#FFA15A\", \"#19d3f3\", \"#FF6692\", \"#B6E880\", \"#FF97FF\", \"#FECB52\"], \"font\": {\"color\": \"#2a3f5f\"}, \"geo\": {\"bgcolor\": \"white\", \"lakecolor\": \"white\", \"landcolor\": \"#E5ECF6\", \"showlakes\": true, \"showland\": true, \"subunitcolor\": \"white\"}, \"hoverlabel\": {\"align\": \"left\"}, \"hovermode\": \"closest\", \"mapbox\": {\"style\": \"light\"}, \"paper_bgcolor\": \"white\", \"plot_bgcolor\": \"#E5ECF6\", \"polar\": {\"angularaxis\": {\"gridcolor\": \"white\", \"linecolor\": \"white\", \"ticks\": \"\"}, \"bgcolor\": \"#E5ECF6\", \"radialaxis\": {\"gridcolor\": \"white\", \"linecolor\": \"white\", \"ticks\": \"\"}}, \"scene\": {\"xaxis\": {\"backgroundcolor\": \"#E5ECF6\", \"gridcolor\": \"white\", \"gridwidth\": 2, \"linecolor\": \"white\", \"showbackground\": true, \"ticks\": \"\", \"zerolinecolor\": \"white\"}, \"yaxis\": {\"backgroundcolor\": \"#E5ECF6\", \"gridcolor\": \"white\", \"gridwidth\": 2, \"linecolor\": \"white\", \"showbackground\": true, \"ticks\": \"\", \"zerolinecolor\": \"white\"}, \"zaxis\": {\"backgroundcolor\": \"#E5ECF6\", \"gridcolor\": \"white\", \"gridwidth\": 2, \"linecolor\": \"white\", \"showbackground\": true, \"ticks\": \"\", \"zerolinecolor\": \"white\"}}, \"shapedefaults\": {\"line\": {\"color\": \"#2a3f5f\"}}, \"ternary\": {\"aaxis\": {\"gridcolor\": \"white\", \"linecolor\": \"white\", \"ticks\": \"\"}, \"baxis\": {\"gridcolor\": \"white\", \"linecolor\": \"white\", \"ticks\": \"\"}, \"bgcolor\": \"#E5ECF6\", \"caxis\": {\"gridcolor\": \"white\", \"linecolor\": \"white\", \"ticks\": \"\"}}, \"title\": {\"x\": 0.05}, \"xaxis\": {\"automargin\": true, \"gridcolor\": \"white\", \"linecolor\": \"white\", \"ticks\": \"\", \"zerolinecolor\": \"white\", \"zerolinewidth\": 2}, \"yaxis\": {\"automargin\": true, \"gridcolor\": \"white\", \"linecolor\": \"white\", \"ticks\": \"\", \"zerolinecolor\": \"white\", \"zerolinewidth\": 2}}}, \"title\": {\"text\": \"Iphone X Sales by date\"}, \"xaxis\": {\"anchor\": \"y\", \"domain\": [0.0, 0.98], \"title\": {\"text\": \"date\"}}, \"yaxis\": {\"anchor\": \"x\", \"categoryarray\": [425, 600, 525, 390, 545, 470, 412.5, 595, 550, 520, 650, 350, 370, 330, 400, 535, 669, 450, 500], \"categoryorder\": \"array\", \"domain\": [0.0, 1.0], \"title\": {\"text\": \"iPhone X Sale Price\"}}},\n",
       "                        {\"responsive\": true}\n",
       "                    ).then(function(){\n",
       "                            \n",
       "var gd = document.getElementById('10fe9a8d-961f-4a73-a90b-a82b0bba08dc');\n",
       "var x = new MutationObserver(function (mutations, observer) {{\n",
       "        var display = window.getComputedStyle(gd).display;\n",
       "        if (!display || display === 'none') {{\n",
       "            console.log([gd, 'removed!']);\n",
       "            Plotly.purge(gd);\n",
       "            observer.disconnect();\n",
       "        }}\n",
       "}});\n",
       "\n",
       "// Listen for the removal of the full notebook cells\n",
       "var notebookContainer = gd.closest('#notebook-container');\n",
       "if (notebookContainer) {{\n",
       "    x.observe(notebookContainer, {childList: true});\n",
       "}}\n",
       "\n",
       "// Listen for the clearing of the current output cell\n",
       "var outputEl = gd.closest('.output');\n",
       "if (outputEl) {{\n",
       "    x.observe(outputEl, {childList: true});\n",
       "}}\n",
       "\n",
       "                        })\n",
       "                };\n",
       "                });\n",
       "            </script>\n",
       "        </div>"
      ]
     },
     "metadata": {},
     "output_type": "display_data"
    }
   ],
   "source": [
    "fig = px.bar(product, x='date', y='FINAL_PRICE', hover_data=['title', 'FINAL_PRICE'], \n",
    "             color='FINAL_PRICE', barmode='overlay', title='Iphone X Sales by date',\n",
    "            labels={'FINAL_PRICE': 'iPhone X Sale Price'})\n",
    "fig.show()"
   ]
  },
  {
   "cell_type": "code",
   "execution_count": null,
   "metadata": {},
   "outputs": [],
   "source": []
  }
 ],
 "metadata": {
  "kernelspec": {
   "display_name": "learn-env",
   "language": "python",
   "name": "learn-env"
  },
  "language_info": {
   "codemirror_mode": {
    "name": "ipython",
    "version": 3
   },
   "file_extension": ".py",
   "mimetype": "text/x-python",
   "name": "python",
   "nbconvert_exporter": "python",
   "pygments_lexer": "ipython3",
   "version": "3.7.3"
  }
 },
 "nbformat": 4,
 "nbformat_minor": 2
}
