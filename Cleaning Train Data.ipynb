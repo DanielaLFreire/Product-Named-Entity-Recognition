{
 "cells": [
  {
   "cell_type": "code",
   "execution_count": 1,
   "metadata": {},
   "outputs": [],
   "source": [
    "import numpy as np\n",
    "import pandas as pd\n",
    "import spacy\n",
    "import re"
   ]
  },
  {
   "cell_type": "code",
   "execution_count": 2,
   "metadata": {},
   "outputs": [],
   "source": [
    "from nltk.stem.wordnet import WordNetLemmatizer\n",
    "from nltk.corpus import stopwords"
   ]
  },
  {
   "cell_type": "code",
   "execution_count": 3,
   "metadata": {},
   "outputs": [],
   "source": [
    "stop_words = stopwords.words('english')"
   ]
  },
  {
   "cell_type": "code",
   "execution_count": 138,
   "metadata": {},
   "outputs": [],
   "source": [
    "df = pd.read_csv('df_selling_1.csv')"
   ]
  },
  {
   "cell_type": "markdown",
   "metadata": {},
   "source": [
    "### Cleaning the Titles"
   ]
  },
  {
   "cell_type": "code",
   "execution_count": 139,
   "metadata": {},
   "outputs": [],
   "source": [
    "def clean_title(title):\n",
    "    x = title[:title.find('[W]')] \n",
    "    x = re.sub('\\[H]', '', x)\n",
    "    x = re.sub('\\[', '', x)\n",
    "    x = re.sub('\\]', '', x)\n",
    "    return x\n",
    "        "
   ]
  },
  {
   "cell_type": "code",
   "execution_count": 140,
   "metadata": {},
   "outputs": [],
   "source": [
    "def title_len(title):\n",
    "    x = len(title)\n",
    "    return x"
   ]
  },
  {
   "cell_type": "code",
   "execution_count": 141,
   "metadata": {},
   "outputs": [],
   "source": [
    "def titles(df):\n",
    "    df['title_clean'] = df['title'].apply(clean_title)\n",
    "    df['title_len'] = df['title_clean'] .apply(title_len)\n",
    "    shorter_titles = df[df['title_len'] < 65]\n",
    "    shorter_titles.drop(['Unnamed: 0', 'title_len', 'num_products'], axis=1, inplace=True)\n",
    "    return shorter_titles\n",
    "    \n",
    "    "
   ]
  },
  {
   "cell_type": "code",
   "execution_count": 142,
   "metadata": {},
   "outputs": [
    {
     "name": "stderr",
     "output_type": "stream",
     "text": [
      "/Users/eric/anaconda3/lib/python3.7/site-packages/pandas/core/frame.py:3940: SettingWithCopyWarning: \n",
      "A value is trying to be set on a copy of a slice from a DataFrame\n",
      "\n",
      "See the caveats in the documentation: http://pandas.pydata.org/pandas-docs/stable/indexing.html#indexing-view-versus-copy\n",
      "  errors=errors)\n"
     ]
    }
   ],
   "source": [
    "df = titles(df)"
   ]
  },
  {
   "cell_type": "code",
   "execution_count": 143,
   "metadata": {},
   "outputs": [
    {
     "data": {
      "text/html": [
       "<div>\n",
       "<style scoped>\n",
       "    .dataframe tbody tr th:only-of-type {\n",
       "        vertical-align: middle;\n",
       "    }\n",
       "\n",
       "    .dataframe tbody tr th {\n",
       "        vertical-align: top;\n",
       "    }\n",
       "\n",
       "    .dataframe thead th {\n",
       "        text-align: right;\n",
       "    }\n",
       "</style>\n",
       "<table border=\"1\" class=\"dataframe\">\n",
       "  <thead>\n",
       "    <tr style=\"text-align: right;\">\n",
       "      <th></th>\n",
       "      <th>id</th>\n",
       "      <th>date</th>\n",
       "      <th>title</th>\n",
       "      <th>text</th>\n",
       "      <th>direction</th>\n",
       "      <th>author</th>\n",
       "      <th>link</th>\n",
       "      <th>title_clean</th>\n",
       "    </tr>\n",
       "  </thead>\n",
       "  <tbody>\n",
       "    <tr>\n",
       "      <th>0</th>\n",
       "      <td>ef6gns</td>\n",
       "      <td>12/24/2019</td>\n",
       "      <td>[USA-OH] [H] Valve index full kit [W] Paypal</td>\n",
       "      <td>http://imgur.com/gallery/hcNYf9a\\n\\nSelling my...</td>\n",
       "      <td>SELLING</td>\n",
       "      <td>HoochtheHero</td>\n",
       "      <td>/r/hardwareswap/comments/ef6gns/usaoh_h_valve_...</td>\n",
       "      <td>USA-OH  Valve index full kit</td>\n",
       "    </tr>\n",
       "    <tr>\n",
       "      <th>1</th>\n",
       "      <td>ef60t3</td>\n",
       "      <td>12/24/2019</td>\n",
       "      <td>[USA-OH][H] MSI Armor RX 580 4GB [W] Paypal, L...</td>\n",
       "      <td>Used for about 4-5 months and is very clean ba...</td>\n",
       "      <td>SELLING</td>\n",
       "      <td>asterik216</td>\n",
       "      <td>/r/hardwareswap/comments/ef60t3/usaohh_msi_arm...</td>\n",
       "      <td>USA-OH MSI Armor RX 580 4GB</td>\n",
       "    </tr>\n",
       "    <tr>\n",
       "      <th>2</th>\n",
       "      <td>ef5av3</td>\n",
       "      <td>12/24/2019</td>\n",
       "      <td>[USA-IL] [H] Bose SoundSport Free [W] PayPal</td>\n",
       "      <td>[Timestamps here](https://imgur.com/bMnWAId)\\n...</td>\n",
       "      <td>SELLING</td>\n",
       "      <td>legoswag123</td>\n",
       "      <td>/r/hardwareswap/comments/ef5av3/usail_h_bose_s...</td>\n",
       "      <td>USA-IL  Bose SoundSport Free</td>\n",
       "    </tr>\n",
       "    <tr>\n",
       "      <th>3</th>\n",
       "      <td>ef5auo</td>\n",
       "      <td>12/24/2019</td>\n",
       "      <td>[USA-ID][H] BNIB Dell U3818DW ultra wide ultra...</td>\n",
       "      <td>(I apologize if my photos are confusing but th...</td>\n",
       "      <td>SELLING</td>\n",
       "      <td>Red_1224</td>\n",
       "      <td>/r/hardwareswap/comments/ef5auo/usaidh_bnib_de...</td>\n",
       "      <td>USA-ID BNIB Dell U3818DW ultra wide ultra shar...</td>\n",
       "    </tr>\n",
       "    <tr>\n",
       "      <th>4</th>\n",
       "      <td>ef75tz</td>\n",
       "      <td>12/24/2019</td>\n",
       "      <td>[USA-KS] [H] acer nitro 5 spin gaming laptop [...</td>\n",
       "      <td>Selling a new and unused laptop that I got fro...</td>\n",
       "      <td>SELLING</td>\n",
       "      <td>TIMTWIJUTSU21</td>\n",
       "      <td>/r/hardwareswap/comments/ef75tz/usaks_h_acer_n...</td>\n",
       "      <td>USA-KS  acer nitro 5 spin gaming laptop</td>\n",
       "    </tr>\n",
       "  </tbody>\n",
       "</table>\n",
       "</div>"
      ],
      "text/plain": [
       "       id        date                                              title  \\\n",
       "0  ef6gns  12/24/2019       [USA-OH] [H] Valve index full kit [W] Paypal   \n",
       "1  ef60t3  12/24/2019  [USA-OH][H] MSI Armor RX 580 4GB [W] Paypal, L...   \n",
       "2  ef5av3  12/24/2019       [USA-IL] [H] Bose SoundSport Free [W] PayPal   \n",
       "3  ef5auo  12/24/2019  [USA-ID][H] BNIB Dell U3818DW ultra wide ultra...   \n",
       "4  ef75tz  12/24/2019  [USA-KS] [H] acer nitro 5 spin gaming laptop [...   \n",
       "\n",
       "                                                text direction         author  \\\n",
       "0  http://imgur.com/gallery/hcNYf9a\\n\\nSelling my...   SELLING   HoochtheHero   \n",
       "1  Used for about 4-5 months and is very clean ba...   SELLING     asterik216   \n",
       "2  [Timestamps here](https://imgur.com/bMnWAId)\\n...   SELLING    legoswag123   \n",
       "3  (I apologize if my photos are confusing but th...   SELLING       Red_1224   \n",
       "4  Selling a new and unused laptop that I got fro...   SELLING  TIMTWIJUTSU21   \n",
       "\n",
       "                                                link  \\\n",
       "0  /r/hardwareswap/comments/ef6gns/usaoh_h_valve_...   \n",
       "1  /r/hardwareswap/comments/ef60t3/usaohh_msi_arm...   \n",
       "2  /r/hardwareswap/comments/ef5av3/usail_h_bose_s...   \n",
       "3  /r/hardwareswap/comments/ef5auo/usaidh_bnib_de...   \n",
       "4  /r/hardwareswap/comments/ef75tz/usaks_h_acer_n...   \n",
       "\n",
       "                                         title_clean  \n",
       "0                      USA-OH  Valve index full kit   \n",
       "1                       USA-OH MSI Armor RX 580 4GB   \n",
       "2                      USA-IL  Bose SoundSport Free   \n",
       "3  USA-ID BNIB Dell U3818DW ultra wide ultra shar...  \n",
       "4           USA-KS  acer nitro 5 spin gaming laptop   "
      ]
     },
     "execution_count": 143,
     "metadata": {},
     "output_type": "execute_result"
    }
   ],
   "source": [
    "df.head()"
   ]
  },
  {
   "cell_type": "code",
   "execution_count": null,
   "metadata": {},
   "outputs": [],
   "source": []
  }
 ],
 "metadata": {
  "kernelspec": {
   "display_name": "learn-env",
   "language": "python",
   "name": "learn-env"
  },
  "language_info": {
   "codemirror_mode": {
    "name": "ipython",
    "version": 3
   },
   "file_extension": ".py",
   "mimetype": "text/x-python",
   "name": "python",
   "nbconvert_exporter": "python",
   "pygments_lexer": "ipython3",
   "version": "3.7.3"
  }
 },
 "nbformat": 4,
 "nbformat_minor": 2
}
